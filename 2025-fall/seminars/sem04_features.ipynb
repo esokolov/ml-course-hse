{
  "cells": [
    {
      "cell_type": "markdown",
      "metadata": {
        "id": "Ls3udhf7YwKy"
      },
      "source": [
        "# Машинное обучение 1, ПМИ ФКН ВШЭ\n",
        "\n",
        "## Семинар 4\n",
        "\n",
        "## Подготовка данных"
      ]
    },
    {
      "cell_type": "code",
      "execution_count": 7,
      "metadata": {
        "ExecuteTime": {
          "end_time": "2019-09-28T19:10:18.309671Z",
          "start_time": "2019-09-28T19:10:14.654448Z"
        },
        "cell_style": "center",
        "id": "s2gpbcc0YwK1"
      },
      "outputs": [],
      "source": [
        "%matplotlib inline\n",
        "\n",
        "import pandas as pd\n",
        "import numpy as np\n",
        "import seaborn as sns\n",
        "import matplotlib.pyplot as plt\n",
        "from tqdm import tqdm\n",
        "from sklearn.datasets import fetch_20newsgroups\n",
        "\n",
        "from sklearn.model_selection import train_test_split\n",
        "from sklearn.linear_model import Ridge\n",
        "from sklearn.metrics import mean_squared_error"
      ]
    },
    {
      "cell_type": "markdown",
      "source": [
        "Сегодня мы углубимся в одну из самых важных тем в машинном обучении - конструирование признаков (feature engineering). Качество вашей модели зависит не только от выбранного алгоритма, но и, в значительной степени, от того, как вы подготовите и представите данные.\n",
        "\n",
        "Начнем мы с рассмотрения двух техник: трансформации признаков с помощью логарифмирования и бинаризации для захвата нелинейных зависимостей."
      ],
      "metadata": {
        "id": "6lFAumFTe1CR"
      }
    },
    {
      "cell_type": "markdown",
      "metadata": {
        "id": "E1aEX4KZYwK9"
      },
      "source": [
        "## Трансформация признаков и целевой переменной"
      ]
    },
    {
      "cell_type": "markdown",
      "metadata": {
        "id": "UvplkTagYwK9"
      },
      "source": [
        "Идея трансформации заключается в изменении шкалы или распределения данных, чтобы они лучше соответствовали предположениям модели, которую мы используем. Это особенно важно для линейных моделей."
      ]
    },
    {
      "cell_type": "markdown",
      "metadata": {
        "id": "SO1sGwy4YwK9"
      },
      "source": [
        "### Логарифмирование\n",
        "\n",
        "Воспользуется датасетом с ценами на дома, с которым мы уже сталкивались ранее ([House Prices: Advanced Regression Techniques](https://www.kaggle.com/c/house-prices-advanced-regression-techniques/overview))."
      ]
    },
    {
      "cell_type": "code",
      "execution_count": 2,
      "metadata": {
        "ExecuteTime": {
          "end_time": "2019-09-28T19:10:27.600964Z",
          "start_time": "2019-09-28T19:10:25.507394Z"
        },
        "id": "S29HGzeKYwK9"
      },
      "outputs": [],
      "source": [
        "!wget  -O 'train_sem4.csv' -q 'https://www.dropbox.com/s/syfy4lb6xb7wdlx/_train_sem4.csv?dl=0'"
      ]
    },
    {
      "cell_type": "code",
      "execution_count": 3,
      "metadata": {
        "ExecuteTime": {
          "end_time": "2019-09-28T19:10:27.669451Z",
          "start_time": "2019-09-28T19:10:27.604504Z"
        },
        "id": "e-dJ0GGVYwLH"
      },
      "outputs": [],
      "source": [
        "data = pd.read_csv('train_sem4.csv')\n",
        "\n",
        "data = data.drop(columns=[\"Id\"])\n",
        "y = data[\"SalePrice\"]\n",
        "X = data.drop(columns=[\"SalePrice\"])"
      ]
    },
    {
      "cell_type": "markdown",
      "metadata": {
        "id": "d7sulqkNYwLI"
      },
      "source": [
        "Посмотрим на распределение целевой переменной"
      ]
    },
    {
      "cell_type": "code",
      "execution_count": 8,
      "metadata": {
        "ExecuteTime": {
          "end_time": "2019-09-28T19:10:28.386207Z",
          "start_time": "2019-09-28T19:10:27.671842Z"
        },
        "colab": {
          "base_uri": "https://localhost:8080/",
          "height": 381
        },
        "id": "jxBTVaOzYwLI",
        "outputId": "e58aab40-4ed4-4db2-99ba-ad27c3a54204"
      },
      "outputs": [
        {
          "output_type": "display_data",
          "data": {
            "text/plain": [
              "<Figure size 1200x500 with 2 Axes>"
            ],
            "image/png": "[encoded data removed]"
          },
          "metadata": {}
        }
      ],
      "source": [
        "plt.figure(figsize=(12, 5))\n",
        "\n",
        "plt.subplot(1, 2, 1)\n",
        "sns.histplot(np.array(y), label='target')\n",
        "plt.title('target')\n",
        "\n",
        "plt.subplot(1, 2, 2)\n",
        "sns.histplot(np.array(data.GrLivArea), label='area')\n",
        "plt.title('area')\n",
        "plt.show()"
      ]
    },
    {
      "cell_type": "markdown",
      "metadata": {
        "id": "UELHVM8OYwLI"
      },
      "source": [
        "Видим, что распределения несимметричные с тяжёлыми правыми хвостами.\n",
        "\n",
        "Оставим только числовые признаки, пропуски заменим средним значением."
      ]
    },
    {
      "cell_type": "code",
      "execution_count": 9,
      "metadata": {
        "ExecuteTime": {
          "end_time": "2019-09-28T19:10:28.464075Z",
          "start_time": "2019-09-28T19:10:28.401693Z"
        },
        "id": "QGdJqlYQYwLI"
      },
      "outputs": [],
      "source": [
        "X_train, X_test, y_train, y_test = train_test_split(\n",
        "    X, y, test_size=0.3, random_state=10)\n",
        "\n",
        "numeric_data = X_train.select_dtypes([np.number])\n",
        "numeric_data_mean = numeric_data.mean()\n",
        "numeric_features = numeric_data.columns\n",
        "\n",
        "X_train = X_train.fillna(numeric_data_mean)[numeric_features]\n",
        "X_test = X_test.fillna(numeric_data_mean)[numeric_features]"
      ]
    },
    {
      "cell_type": "markdown",
      "metadata": {
        "ExecuteTime": {
          "end_time": "2019-09-26T13:06:11.582867Z",
          "start_time": "2019-09-26T13:06:11.570901Z"
        },
        "id": "Hnsmgf4gYwLI"
      },
      "source": [
        "Если разбирать линейную регрессия с [вероятностной](https://github.com/esokolov/ml-course-hse/blob/master/2018-fall/seminars/sem04-linregr.pdf) точки зрения, то можно получить, что шум должен быть распределён нормально. Поэтому лучше, когда целевая переменная распределена также нормально.\n",
        "\n",
        "Если прологарифмировать целевую переменную, то её распределение станет больше похоже на нормальное:"
      ]
    },
    {
      "cell_type": "code",
      "execution_count": 10,
      "metadata": {
        "ExecuteTime": {
          "end_time": "2019-09-28T19:10:28.771830Z",
          "start_time": "2019-09-28T19:10:28.469382Z"
        },
        "colab": {
          "base_uri": "https://localhost:8080/",
          "height": 449
        },
        "id": "yG9rN9CSYwLI",
        "outputId": "1462360e-2381-49d7-b5e3-27ee3246723a"
      },
      "outputs": [
        {
          "output_type": "display_data",
          "data": {
            "text/plain": [
              "<Figure size 640x480 with 1 Axes>"
            ],
            "image/png": "[encoded data removed]"
          },
          "metadata": {}
        }
      ],
      "source": [
        "sns.histplot(np.log(y+1), label='target')\n",
        "plt.show()"
      ]
    },
    {
      "cell_type": "markdown",
      "metadata": {
        "id": "UgJ8TO71YwLJ"
      },
      "source": [
        "Сравним качество линейной регрессии в двух случаях:\n",
        "1. Целевая переменная без изменений.\n",
        "2. Целевая переменная прологарифмирована.\n",
        "\n",
        "Не забудем вернуть во втором случае взять экспоненту от предсказаний!"
      ]
    },
    {
      "cell_type": "code",
      "execution_count": 11,
      "metadata": {
        "ExecuteTime": {
          "end_time": "2019-09-28T19:10:28.833250Z",
          "start_time": "2019-09-28T19:10:28.801394Z"
        },
        "colab": {
          "base_uri": "https://localhost:8080/"
        },
        "id": "gysVmafiYwLJ",
        "outputId": "34f4ea78-3276-4511-acab-91839f45d7a3"
      },
      "outputs": [
        {
          "output_type": "stream",
          "name": "stdout",
          "text": [
            "Test RMSE = 32085.7681\n"
          ]
        }
      ],
      "source": [
        "model = Ridge()\n",
        "model.fit(X_train, y_train)\n",
        "y_pred = model.predict(X_test)\n",
        "\n",
        "print(\"Test RMSE = %.4f\" % mean_squared_error(y_test, y_pred) ** 0.5)"
      ]
    },
    {
      "cell_type": "code",
      "execution_count": 12,
      "metadata": {
        "ExecuteTime": {
          "end_time": "2019-09-28T19:10:28.860025Z",
          "start_time": "2019-09-28T19:10:28.840089Z"
        },
        "colab": {
          "base_uri": "https://localhost:8080/"
        },
        "id": "BiJ1WVlHYwLJ",
        "outputId": "84a83c50-e82d-4433-9e5a-aab7d29197e1"
      },
      "outputs": [
        {
          "output_type": "stream",
          "name": "stdout",
          "text": [
            "Test RMSE = 26649.2742\n"
          ]
        }
      ],
      "source": [
        "model = Ridge()\n",
        "model.fit(X_train, np.log(y_train+1))\n",
        "y_pred = np.exp(model.predict(X_test))-1\n",
        "\n",
        "print(\"Test RMSE = %.4f\" % mean_squared_error(y_test, y_pred) ** 0.5)"
      ]
    },
    {
      "cell_type": "markdown",
      "metadata": {
        "id": "ZRa2EKAsYwLJ"
      },
      "source": [
        "Попробуем аналогично логарифмировать один из признаков, имеющих также смещённое распределение (этот признак был вторым по важности!)"
      ]
    },
    {
      "cell_type": "code",
      "execution_count": 13,
      "metadata": {
        "ExecuteTime": {
          "end_time": "2019-09-28T19:10:28.883024Z",
          "start_time": "2019-09-28T19:10:28.866508Z"
        },
        "id": "galeLt4QYwLJ"
      },
      "outputs": [],
      "source": [
        "X_train.GrLivArea = np.log(X_train.GrLivArea + 1)\n",
        "X_test.GrLivArea = np.log(X_test.GrLivArea + 1)"
      ]
    },
    {
      "cell_type": "code",
      "execution_count": 14,
      "metadata": {
        "ExecuteTime": {
          "end_time": "2019-09-28T19:10:28.915423Z",
          "start_time": "2019-09-28T19:10:28.887909Z"
        },
        "colab": {
          "base_uri": "https://localhost:8080/"
        },
        "id": "LuWmxTEoYwLJ",
        "outputId": "0de65501-a302-4c10-ac93-00ab8b14df1e"
      },
      "outputs": [
        {
          "output_type": "stream",
          "name": "stdout",
          "text": [
            "Test RMSE = 31893.8891\n"
          ]
        }
      ],
      "source": [
        "model = Ridge()\n",
        "model.fit(X_train[numeric_features], y_train)\n",
        "y_pred = model.predict(X_test[numeric_features])\n",
        "\n",
        "print(\"Test RMSE = %.4f\" % mean_squared_error(y_test, y_pred) ** 0.5)"
      ]
    },
    {
      "cell_type": "code",
      "execution_count": 15,
      "metadata": {
        "ExecuteTime": {
          "end_time": "2019-09-28T19:10:28.946812Z",
          "start_time": "2019-09-28T19:10:28.919832Z"
        },
        "colab": {
          "base_uri": "https://localhost:8080/"
        },
        "id": "pvFGGeeUYwLJ",
        "outputId": "7ece0021-38f0-4303-8c51-6ee43e079742"
      },
      "outputs": [
        {
          "output_type": "stream",
          "name": "stdout",
          "text": [
            "Test RMSE = 25935.0780\n"
          ]
        }
      ],
      "source": [
        "model = Ridge()\n",
        "model.fit(X_train[numeric_features], np.log(y_train+1))\n",
        "y_pred = np.exp(model.predict(X_test[numeric_features]))-1\n",
        "\n",
        "print(\"Test RMSE = %.4f\" % mean_squared_error(y_test, y_pred) ** 0.5)"
      ]
    },
    {
      "cell_type": "markdown",
      "metadata": {
        "id": "PxyJT8swYwLK"
      },
      "source": [
        "Как видим, преобразование признаков влияет слабее. Признаков много, а вклад размывается по всем. К тому же, проверять распределение множества признаков технически сложнее, чем одной целевой переменной."
      ]
    },
    {
      "cell_type": "markdown",
      "metadata": {
        "id": "BxggP8W7YwLK"
      },
      "source": [
        "### Бинаризация"
      ]
    },
    {
      "cell_type": "markdown",
      "metadata": {
        "id": "-6N5U7o6YwLK"
      },
      "source": [
        "Мы уже смотрели, как полиномиальные признаки могут помочь при восстановлении нелинейной зависимости линейной моделью. Альтернативный подход заключается в бинаризации признаков. Мы разбиваем ось значений одного из признаков на куски (бины) и добавляем для каждого куска-бина новый признак-индикатор попадения в этот бин."
      ]
    },
    {
      "cell_type": "code",
      "execution_count": 16,
      "metadata": {
        "ExecuteTime": {
          "end_time": "2019-09-28T19:10:28.966252Z",
          "start_time": "2019-09-28T19:10:28.952975Z"
        },
        "id": "Pj5c7NdVYwLK"
      },
      "outputs": [],
      "source": [
        "from sklearn.linear_model import LinearRegression\n",
        "\n",
        "np.random.seed(36)\n",
        "X = np.random.uniform(0, 1, size=100)\n",
        "y = np.cos(1.5 * np.pi * X) + np.random.normal(scale=0.1, size=X.shape)"
      ]
    },
    {
      "cell_type": "code",
      "execution_count": 17,
      "metadata": {
        "ExecuteTime": {
          "end_time": "2019-09-28T19:10:29.287834Z",
          "start_time": "2019-09-28T19:10:28.972865Z"
        },
        "colab": {
          "base_uri": "https://localhost:8080/",
          "height": 447
        },
        "id": "gnP8BZyUYwLK",
        "outputId": "479a4323-9e6a-442b-d9cb-6ee1df2a772e"
      },
      "outputs": [
        {
          "output_type": "execute_result",
          "data": {
            "text/plain": [
              "<matplotlib.collections.PathCollection at 0x7aa799054710>"
            ]
          },
          "metadata": {},
          "execution_count": 17
        },
        {
          "output_type": "display_data",
          "data": {
            "text/plain": [
              "<Figure size 640x480 with 1 Axes>"
            ],
            "image/png": "[encoded data removed]"
          },
          "metadata": {}
        }
      ],
      "source": [
        "plt.scatter(X, y)"
      ]
    },
    {
      "cell_type": "code",
      "execution_count": 18,
      "metadata": {
        "ExecuteTime": {
          "end_time": "2019-09-28T19:10:29.304489Z",
          "start_time": "2019-09-28T19:10:29.292850Z"
        },
        "id": "Gnwo_yM9YwLK"
      },
      "outputs": [],
      "source": [
        "X = X.reshape((-1, 1))\n",
        "thresholds = np.arange(0.2, 1.1, 0.2).reshape((1, -1))\n",
        "\n",
        "X_expand = np.hstack((\n",
        "    X,\n",
        "    ((X > thresholds[:, :-1]) & (X <= thresholds[:, 1:])).astype(int)))"
      ]
    },
    {
      "cell_type": "code",
      "execution_count": 19,
      "metadata": {
        "ExecuteTime": {
          "end_time": "2019-09-28T19:10:29.318935Z",
          "start_time": "2019-09-28T19:10:29.308660Z"
        },
        "id": "L-nF3gD0YwLK"
      },
      "outputs": [],
      "source": [
        "from sklearn.model_selection import KFold\n",
        "from sklearn.model_selection import cross_val_score"
      ]
    },
    {
      "cell_type": "code",
      "execution_count": 20,
      "metadata": {
        "ExecuteTime": {
          "end_time": "2019-09-28T19:10:29.345543Z",
          "start_time": "2019-09-28T19:10:29.322509Z"
        },
        "colab": {
          "base_uri": "https://localhost:8080/"
        },
        "id": "4uMYfdGNYwLL",
        "outputId": "4ade560f-f5a7-4525-e484-e3837a7ed7a2"
      },
      "outputs": [
        {
          "output_type": "execute_result",
          "data": {
            "text/plain": [
              "np.float64(0.20553980048560808)"
            ]
          },
          "metadata": {},
          "execution_count": 20
        }
      ],
      "source": [
        "-np.mean(cross_val_score(\n",
        "    LinearRegression(), X, y, cv=KFold(n_splits=3),\n",
        "    scoring='neg_mean_squared_error'))"
      ]
    },
    {
      "cell_type": "code",
      "execution_count": 21,
      "metadata": {
        "ExecuteTime": {
          "end_time": "2019-09-28T19:10:29.378306Z",
          "start_time": "2019-09-28T19:10:29.349811Z"
        },
        "colab": {
          "base_uri": "https://localhost:8080/"
        },
        "id": "lZ4kM5DvYwLL",
        "outputId": "1cdd7492-dfac-44ee-c185-8c1f6fadb538"
      },
      "outputs": [
        {
          "output_type": "execute_result",
          "data": {
            "text/plain": [
              "np.float64(0.05580385745900122)"
            ]
          },
          "metadata": {},
          "execution_count": 21
        }
      ],
      "source": [
        "-np.mean(cross_val_score(\n",
        "    LinearRegression(), X_expand, y, cv=KFold(n_splits=3),\n",
        "    scoring='neg_mean_squared_error'))"
      ]
    },
    {
      "cell_type": "markdown",
      "metadata": {
        "id": "HD9fOOljYwLL"
      },
      "source": [
        "Так линейная модель может лучше восстанавливать нелинейные зависимости."
      ]
    },
    {
      "cell_type": "markdown",
      "metadata": {
        "id": "RYPNt8avYwLL"
      },
      "source": [
        "## Нормализация данных"
      ]
    },
    {
      "cell_type": "markdown",
      "metadata": {
        "id": "EU9kg_6CYwLL"
      },
      "source": [
        "Посмотрим как ведут себя данные при разных способах нормализации."
      ]
    },
    {
      "cell_type": "markdown",
      "metadata": {
        "id": "wIb7G_97YwLL"
      },
      "source": [
        "Сгенерируем данные 100 точек из нормального $N(0, 5)$ и 100 точек из равномерного $U[0, 10]$"
      ]
    },
    {
      "cell_type": "code",
      "execution_count": 22,
      "metadata": {
        "id": "rFubaE9vYwLL"
      },
      "outputs": [],
      "source": [
        "normal_data = np.random.normal(loc=0, scale=5, size=100)\n",
        "uniform_data = np.random.uniform(low=5, high=10, size=100)\n",
        "\n",
        "data = np.concatenate([normal_data, uniform_data])"
      ]
    },
    {
      "cell_type": "code",
      "execution_count": 23,
      "metadata": {
        "colab": {
          "base_uri": "https://localhost:8080/",
          "height": 430
        },
        "id": "R49VdLBJYwLL",
        "outputId": "5d196187-e734-4fe6-f56a-df122c3528a4"
      },
      "outputs": [
        {
          "output_type": "display_data",
          "data": {
            "text/plain": [
              "<Figure size 640x480 with 1 Axes>"
            ],
            "image/png": "[encoded data removed]"
          },
          "metadata": {}
        }
      ],
      "source": [
        "sns.histplot(data, label='points')\n",
        "plt.show()"
      ]
    },
    {
      "cell_type": "markdown",
      "metadata": {
        "id": "3GXVScsWYwLL"
      },
      "source": [
        "Standard Scaler:\n",
        "\n",
        "$$x_n = \\frac{x - \\mu}{\\sigma},$$\n",
        "\n",
        "где $\\mu$ -- среднее, а $\\sigma$ -- стандартное отклонение."
      ]
    },
    {
      "cell_type": "code",
      "execution_count": 24,
      "metadata": {
        "colab": {
          "base_uri": "https://localhost:8080/",
          "height": 430
        },
        "id": "atOUNlHLYwLM",
        "outputId": "3de949d0-d64d-440c-8969-d2c778208fad"
      },
      "outputs": [
        {
          "output_type": "display_data",
          "data": {
            "text/plain": [
              "<Figure size 640x480 with 1 Axes>"
            ],
            "image/png": "[encoded data removed]"
          },
          "metadata": {}
        }
      ],
      "source": [
        "from sklearn.preprocessing import StandardScaler\n",
        "scaler = StandardScaler()\n",
        "data_standard = scaler.fit_transform(data[:, np.newaxis])\n",
        "\n",
        "sns.histplot(data_standard, label='points')\n",
        "plt.show()"
      ]
    },
    {
      "cell_type": "markdown",
      "metadata": {
        "id": "viJ5VphYYwLM"
      },
      "source": [
        "MinMax/Uniform Scaler:\n",
        "\n",
        "$$x_n = \\frac{x - x_{min}}{x_{max} - x_{min}},$$\n",
        "\n",
        "где $x_{min}$ -- минимальное значение, а $x_{max}$ -- максимальное значение."
      ]
    },
    {
      "cell_type": "code",
      "execution_count": 25,
      "metadata": {
        "colab": {
          "base_uri": "https://localhost:8080/",
          "height": 430
        },
        "id": "gjLysMD4YwLM",
        "outputId": "0295cc65-8878-4d11-b289-1824505dfdcc"
      },
      "outputs": [
        {
          "output_type": "display_data",
          "data": {
            "text/plain": [
              "<Figure size 640x480 with 1 Axes>"
            ],
            "image/png": "[encoded data removed]"
          },
          "metadata": {}
        }
      ],
      "source": [
        "from sklearn.preprocessing import MinMaxScaler\n",
        "scaler = MinMaxScaler()\n",
        "data_minmax = scaler.fit_transform(data[:, np.newaxis])\n",
        "\n",
        "sns.histplot(data_minmax, label='points')\n",
        "plt.show()"
      ]
    },
    {
      "cell_type": "markdown",
      "metadata": {
        "id": "1iAgu-kMYwLM"
      },
      "source": [
        "Robust Scaler\n",
        "\n",
        "$$x_n = \\frac{x - q(0.5)}{q(0.75) - q(0.25)},$$\n",
        "\n",
        "где $q(k)$ -- $k$-ый квантиль. Такой Scaler меньше чувствителен к выбросам."
      ]
    },
    {
      "cell_type": "code",
      "execution_count": 26,
      "metadata": {
        "colab": {
          "base_uri": "https://localhost:8080/",
          "height": 430
        },
        "id": "rmH0zafoYwLM",
        "outputId": "6459f44b-a382-4475-cee4-23aade7779f9"
      },
      "outputs": [
        {
          "output_type": "display_data",
          "data": {
            "text/plain": [
              "<Figure size 640x480 with 1 Axes>"
            ],
            "image/png": "[encoded data removed]"
          },
          "metadata": {}
        }
      ],
      "source": [
        "from sklearn.preprocessing import RobustScaler\n",
        "scaler = RobustScaler()\n",
        "data_robust = scaler.fit_transform(data[:, np.newaxis])\n",
        "\n",
        "sns.histplot(data_robust, label='points')\n",
        "plt.show()"
      ]
    },
    {
      "cell_type": "markdown",
      "metadata": {
        "id": "ulWRPtEsYwLM"
      },
      "source": [
        "L2 Нормализация:\n",
        "\n",
        "$$x_n = \\frac{x}{\\|x\\|_2}$$"
      ]
    },
    {
      "cell_type": "code",
      "execution_count": 27,
      "metadata": {
        "colab": {
          "base_uri": "https://localhost:8080/",
          "height": 430
        },
        "id": "a-qn7fN2YwLM",
        "outputId": "4798de40-843d-4728-a8a1-485ad40048b0"
      },
      "outputs": [
        {
          "output_type": "display_data",
          "data": {
            "text/plain": [
              "<Figure size 640x480 with 1 Axes>"
            ],
            "image/png": "[encoded data removed]"
          },
          "metadata": {}
        }
      ],
      "source": [
        "data_l2 = data / np.linalg.norm(data)\n",
        "sns.histplot(data_l2, label='points')\n",
        "plt.show()"
      ]
    },
    {
      "cell_type": "markdown",
      "metadata": {
        "id": "K7jHoVHPYwLN"
      },
      "source": [
        "Покажем на реальном примере, как нормализация данных помогает с повышением качества классификации. Рассмотрим датасет итальянских вин:"
      ]
    },
    {
      "cell_type": "code",
      "execution_count": 28,
      "metadata": {
        "colab": {
          "base_uri": "https://localhost:8080/",
          "height": 226
        },
        "id": "ThHoOgcAYwLN",
        "outputId": "9453c407-135d-4e88-b6cc-201926965ce1"
      },
      "outputs": [
        {
          "output_type": "execute_result",
          "data": {
            "text/plain": [
              "   alcohol  malic_acid   ash  alcalinity_of_ash  magnesium  total_phenols  \\\n",
              "0    14.23        1.71  2.43               15.6      127.0           2.80   \n",
              "1    13.20        1.78  2.14               11.2      100.0           2.65   \n",
              "2    13.16        2.36  2.67               18.6      101.0           2.80   \n",
              "3    14.37        1.95  2.50               16.8      113.0           3.85   \n",
              "4    13.24        2.59  2.87               21.0      118.0           2.80   \n",
              "\n",
              "   flavanoids  nonflavanoid_phenols  proanthocyanins  color_intensity   hue  \\\n",
              "0        3.06                  0.28             2.29             5.64  1.04   \n",
              "1        2.76                  0.26             1.28             4.38  1.05   \n",
              "2        3.24                  0.30             2.81             5.68  1.03   \n",
              "3        3.49                  0.24             2.18             7.80  0.86   \n",
              "4        2.69                  0.39             1.82             4.32  1.04   \n",
              "\n",
              "   od280/od315_of_diluted_wines  proline  target  \n",
              "0                          3.92   1065.0       0  \n",
              "1                          3.40   1050.0       0  \n",
              "2                          3.17   1185.0       0  \n",
              "3                          3.45   1480.0       0  \n",
              "4                          2.93    735.0       0  "
            ],
            "text/html": [
              "\n",
              "  <div id=\"df-db9e4aca-8f0c-4fc3-8b07-a408e05b7187\" class=\"colab-df-container\">\n",
              "    <div>\n",
              "<style scoped>\n",
              "    .dataframe tbody tr th:only-of-type {\n",
              "        vertical-align: middle;\n",
              "    }\n",
              "\n",
              "    .dataframe tbody tr th {\n",
              "        vertical-align: top;\n",
              "    }\n",
              "\n",
              "    .dataframe thead th {\n",
              "        text-align: right;\n",
              "    }\n",
              "</style>\n",
              "<table border=\"1\" class=\"dataframe\">\n",
              "  <thead>\n",
              "    <tr style=\"text-align: right;\">\n",
              "      <th></th>\n",
              "      <th>alcohol</th>\n",
              "      <th>malic_acid</th>\n",
              "      <th>ash</th>\n",
              "      <th>alcalinity_of_ash</th>\n",
              "      <th>magnesium</th>\n",
              "      <th>total_phenols</th>\n",
              "      <th>flavanoids</th>\n",
              "      <th>nonflavanoid_phenols</th>\n",
              "      <th>proanthocyanins</th>\n",
              "      <th>color_intensity</th>\n",
              "      <th>hue</th>\n",
              "      <th>od280/od315_of_diluted_wines</th>\n",
              "      <th>proline</th>\n",
              "      <th>target</th>\n",
              "    </tr>\n",
              "  </thead>\n",
              "  <tbody>\n",
              "    <tr>\n",
              "      <th>0</th>\n",
              "      <td>14.23</td>\n",
              "      <td>1.71</td>\n",
              "      <td>2.43</td>\n",
              "      <td>15.6</td>\n",
              "      <td>127.0</td>\n",
              "      <td>2.80</td>\n",
              "      <td>3.06</td>\n",
              "      <td>0.28</td>\n",
              "      <td>2.29</td>\n",
              "      <td>5.64</td>\n",
              "      <td>1.04</td>\n",
              "      <td>3.92</td>\n",
              "      <td>1065.0</td>\n",
              "      <td>0</td>\n",
              "    </tr>\n",
              "    <tr>\n",
              "      <th>1</th>\n",
              "      <td>13.20</td>\n",
              "      <td>1.78</td>\n",
              "      <td>2.14</td>\n",
              "      <td>11.2</td>\n",
              "      <td>100.0</td>\n",
              "      <td>2.65</td>\n",
              "      <td>2.76</td>\n",
              "      <td>0.26</td>\n",
              "      <td>1.28</td>\n",
              "      <td>4.38</td>\n",
              "      <td>1.05</td>\n",
              "      <td>3.40</td>\n",
              "      <td>1050.0</td>\n",
              "      <td>0</td>\n",
              "    </tr>\n",
              "    <tr>\n",
              "      <th>2</th>\n",
              "      <td>13.16</td>\n",
              "      <td>2.36</td>\n",
              "      <td>2.67</td>\n",
              "      <td>18.6</td>\n",
              "      <td>101.0</td>\n",
              "      <td>2.80</td>\n",
              "      <td>3.24</td>\n",
              "      <td>0.30</td>\n",
              "      <td>2.81</td>\n",
              "      <td>5.68</td>\n",
              "      <td>1.03</td>\n",
              "      <td>3.17</td>\n",
              "      <td>1185.0</td>\n",
              "      <td>0</td>\n",
              "    </tr>\n",
              "    <tr>\n",
              "      <th>3</th>\n",
              "      <td>14.37</td>\n",
              "      <td>1.95</td>\n",
              "      <td>2.50</td>\n",
              "      <td>16.8</td>\n",
              "      <td>113.0</td>\n",
              "      <td>3.85</td>\n",
              "      <td>3.49</td>\n",
              "      <td>0.24</td>\n",
              "      <td>2.18</td>\n",
              "      <td>7.80</td>\n",
              "      <td>0.86</td>\n",
              "      <td>3.45</td>\n",
              "      <td>1480.0</td>\n",
              "      <td>0</td>\n",
              "    </tr>\n",
              "    <tr>\n",
              "      <th>4</th>\n",
              "      <td>13.24</td>\n",
              "      <td>2.59</td>\n",
              "      <td>2.87</td>\n",
              "      <td>21.0</td>\n",
              "      <td>118.0</td>\n",
              "      <td>2.80</td>\n",
              "      <td>2.69</td>\n",
              "      <td>0.39</td>\n",
              "      <td>1.82</td>\n",
              "      <td>4.32</td>\n",
              "      <td>1.04</td>\n",
              "      <td>2.93</td>\n",
              "      <td>735.0</td>\n",
              "      <td>0</td>\n",
              "    </tr>\n",
              "  </tbody>\n",
              "</table>\n",
              "</div>\n",
              "    <div class=\"colab-df-buttons\">\n",
              "\n",
              "  <div class=\"colab-df-container\">\n",
              "    <button class=\"colab-df-convert\" onclick=\"convertToInteractive('df-db9e4aca-8f0c-4fc3-8b07-a408e05b7187')\"\n",
              "            title=\"Convert this dataframe to an interactive table.\"\n",
              "            style=\"display:none;\">\n",
              "\n",
              "  <svg xmlns=\"http://www.w3.org/2000/svg\" height=\"24px\" viewBox=\"0 -960 960 960\">\n",
              "    <path d=\"M120-120v-720h720v720H120Zm60-500h600v-160H180v160Zm220 220h160v-160H400v160Zm0 220h160v-160H400v160ZM180-400h160v-160H180v160Zm440 0h160v-160H620v160ZM180-180h160v-160H180v160Zm440 0h160v-160H620v160Z\"/>\n",
              "  </svg>\n",
              "    </button>\n",
              "\n",
              "  <style>\n",
              "    .colab-df-container {\n",
              "      display:flex;\n",
              "      gap: 12px;\n",
              "    }\n",
              "\n",
              "    .colab-df-convert {\n",
              "      background-color: #E8F0FE;\n",
              "      border: none;\n",
              "      border-radius: 50%;\n",
              "      cursor: pointer;\n",
              "      display: none;\n",
              "      fill: #1967D2;\n",
              "      height: 32px;\n",
              "      padding: 0 0 0 0;\n",
              "      width: 32px;\n",
              "    }\n",
              "\n",
              "    .colab-df-convert:hover {\n",
              "      background-color: #E2EBFA;\n",
              "      box-shadow: 0px 1px 2px rgba(60, 64, 67, 0.3), 0px 1px 3px 1px rgba(60, 64, 67, 0.15);\n",
              "      fill: #174EA6;\n",
              "    }\n",
              "\n",
              "    .colab-df-buttons div {\n",
              "      margin-bottom: 4px;\n",
              "    }\n",
              "\n",
              "    [theme=dark] .colab-df-convert {\n",
              "      background-color: #3B4455;\n",
              "      fill: #D2E3FC;\n",
              "    }\n",
              "\n",
              "    [theme=dark] .colab-df-convert:hover {\n",
              "      background-color: #434B5C;\n",
              "      box-shadow: 0px 1px 3px 1px rgba(0, 0, 0, 0.15);\n",
              "      filter: drop-shadow(0px 1px 2px rgba(0, 0, 0, 0.3));\n",
              "      fill: #FFFFFF;\n",
              "    }\n",
              "  </style>\n",
              "\n",
              "    <script>\n",
              "      const buttonEl =\n",
              "        document.querySelector('#df-db9e4aca-8f0c-4fc3-8b07-a408e05b7187 button.colab-df-convert');\n",
              "      buttonEl.style.display =\n",
              "        google.colab.kernel.accessAllowed ? 'block' : 'none';\n",
              "\n",
              "      async function convertToInteractive(key) {\n",
              "        const element = document.querySelector('#df-db9e4aca-8f0c-4fc3-8b07-a408e05b7187');\n",
              "        const dataTable =\n",
              "          await google.colab.kernel.invokeFunction('convertToInteractive',\n",
              "                                                    [key], {});\n",
              "        if (!dataTable) return;\n",
              "\n",
              "        const docLinkHtml = 'Like what you see? Visit the ' +\n",
              "          '<a target=\"_blank\" href=https://colab.research.google.com/notebooks/data_table.ipynb>data table notebook</a>'\n",
              "          + ' to learn more about interactive tables.';\n",
              "        element.innerHTML = '';\n",
              "        dataTable['output_type'] = 'display_data';\n",
              "        await google.colab.output.renderOutput(dataTable, element);\n",
              "        const docLink = document.createElement('div');\n",
              "        docLink.innerHTML = docLinkHtml;\n",
              "        element.appendChild(docLink);\n",
              "      }\n",
              "    </script>\n",
              "  </div>\n",
              "\n",
              "\n",
              "    <div id=\"df-649562bb-444f-4442-9616-4e65bd1bb932\">\n",
              "      <button class=\"colab-df-quickchart\" onclick=\"quickchart('df-649562bb-444f-4442-9616-4e65bd1bb932')\"\n",
              "                title=\"Suggest charts\"\n",
              "                style=\"display:none;\">\n",
              "\n",
              "<svg xmlns=\"http://www.w3.org/2000/svg\" height=\"24px\"viewBox=\"0 0 24 24\"\n",
              "     width=\"24px\">\n",
              "    <g>\n",
              "        <path d=\"M19 3H5c-1.1 0-2 .9-2 2v14c0 1.1.9 2 2 2h14c1.1 0 2-.9 2-2V5c0-1.1-.9-2-2-2zM9 17H7v-7h2v7zm4 0h-2V7h2v10zm4 0h-2v-4h2v4z\"/>\n",
              "    </g>\n",
              "</svg>\n",
              "      </button>\n",
              "\n",
              "<style>\n",
              "  .colab-df-quickchart {\n",
              "      --bg-color: #E8F0FE;\n",
              "      --fill-color: #1967D2;\n",
              "      --hover-bg-color: #E2EBFA;\n",
              "      --hover-fill-color: #174EA6;\n",
              "      --disabled-fill-color: #AAA;\n",
              "      --disabled-bg-color: #DDD;\n",
              "  }\n",
              "\n",
              "  [theme=dark] .colab-df-quickchart {\n",
              "      --bg-color: #3B4455;\n",
              "      --fill-color: #D2E3FC;\n",
              "      --hover-bg-color: #434B5C;\n",
              "      --hover-fill-color: #FFFFFF;\n",
              "      --disabled-bg-color: #3B4455;\n",
              "      --disabled-fill-color: #666;\n",
              "  }\n",
              "\n",
              "  .colab-df-quickchart {\n",
              "    background-color: var(--bg-color);\n",
              "    border: none;\n",
              "    border-radius: 50%;\n",
              "    cursor: pointer;\n",
              "    display: none;\n",
              "    fill: var(--fill-color);\n",
              "    height: 32px;\n",
              "    padding: 0;\n",
              "    width: 32px;\n",
              "  }\n",
              "\n",
              "  .colab-df-quickchart:hover {\n",
              "    background-color: var(--hover-bg-color);\n",
              "    box-shadow: 0 1px 2px rgba(60, 64, 67, 0.3), 0 1px 3px 1px rgba(60, 64, 67, 0.15);\n",
              "    fill: var(--button-hover-fill-color);\n",
              "  }\n",
              "\n",
              "  .colab-df-quickchart-complete:disabled,\n",
              "  .colab-df-quickchart-complete:disabled:hover {\n",
              "    background-color: var(--disabled-bg-color);\n",
              "    fill: var(--disabled-fill-color);\n",
              "    box-shadow: none;\n",
              "  }\n",
              "\n",
              "  .colab-df-spinner {\n",
              "    border: 2px solid var(--fill-color);\n",
              "    border-color: transparent;\n",
              "    border-bottom-color: var(--fill-color);\n",
              "    animation:\n",
              "      spin 1s steps(1) infinite;\n",
              "  }\n",
              "\n",
              "  @keyframes spin {\n",
              "    0% {\n",
              "      border-color: transparent;\n",
              "      border-bottom-color: var(--fill-color);\n",
              "      border-left-color: var(--fill-color);\n",
              "    }\n",
              "    20% {\n",
              "      border-color: transparent;\n",
              "      border-left-color: var(--fill-color);\n",
              "      border-top-color: var(--fill-color);\n",
              "    }\n",
              "    30% {\n",
              "      border-color: transparent;\n",
              "      border-left-color: var(--fill-color);\n",
              "      border-top-color: var(--fill-color);\n",
              "      border-right-color: var(--fill-color);\n",
              "    }\n",
              "    40% {\n",
              "      border-color: transparent;\n",
              "      border-right-color: var(--fill-color);\n",
              "      border-top-color: var(--fill-color);\n",
              "    }\n",
              "    60% {\n",
              "      border-color: transparent;\n",
              "      border-right-color: var(--fill-color);\n",
              "    }\n",
              "    80% {\n",
              "      border-color: transparent;\n",
              "      border-right-color: var(--fill-color);\n",
              "      border-bottom-color: var(--fill-color);\n",
              "    }\n",
              "    90% {\n",
              "      border-color: transparent;\n",
              "      border-bottom-color: var(--fill-color);\n",
              "    }\n",
              "  }\n",
              "</style>\n",
              "\n",
              "      <script>\n",
              "        async function quickchart(key) {\n",
              "          const quickchartButtonEl =\n",
              "            document.querySelector('#' + key + ' button');\n",
              "          quickchartButtonEl.disabled = true;  // To prevent multiple clicks.\n",
              "          quickchartButtonEl.classList.add('colab-df-spinner');\n",
              "          try {\n",
              "            const charts = await google.colab.kernel.invokeFunction(\n",
              "                'suggestCharts', [key], {});\n",
              "          } catch (error) {\n",
              "            console.error('Error during call to suggestCharts:', error);\n",
              "          }\n",
              "          quickchartButtonEl.classList.remove('colab-df-spinner');\n",
              "          quickchartButtonEl.classList.add('colab-df-quickchart-complete');\n",
              "        }\n",
              "        (() => {\n",
              "          let quickchartButtonEl =\n",
              "            document.querySelector('#df-649562bb-444f-4442-9616-4e65bd1bb932 button');\n",
              "          quickchartButtonEl.style.display =\n",
              "            google.colab.kernel.accessAllowed ? 'block' : 'none';\n",
              "        })();\n",
              "      </script>\n",
              "    </div>\n",
              "\n",
              "    </div>\n",
              "  </div>\n"
            ],
            "application/vnd.google.colaboratory.intrinsic+json": {
              "type": "dataframe",
              "variable_name": "wine_df",
              "summary": "{\n  \"name\": \"wine_df\",\n  \"rows\": 178,\n  \"fields\": [\n    {\n      \"column\": \"alcohol\",\n      \"properties\": {\n        \"dtype\": \"number\",\n        \"std\": 0.8118265380058577,\n        \"min\": 11.03,\n        \"max\": 14.83,\n        \"num_unique_values\": 126,\n        \"samples\": [\n          11.62,\n          13.64,\n          13.69\n        ],\n        \"semantic_type\": \"\",\n        \"description\": \"\"\n      }\n    },\n    {\n      \"column\": \"malic_acid\",\n      \"properties\": {\n        \"dtype\": \"number\",\n        \"std\": 1.1171460976144627,\n        \"min\": 0.74,\n        \"max\": 5.8,\n        \"num_unique_values\": 133,\n        \"samples\": [\n          1.21,\n          2.83,\n          1.8\n        ],\n        \"semantic_type\": \"\",\n        \"description\": \"\"\n      }\n    },\n    {\n      \"column\": \"ash\",\n      \"properties\": {\n        \"dtype\": \"number\",\n        \"std\": 0.2743440090608148,\n        \"min\": 1.36,\n        \"max\": 3.23,\n        \"num_unique_values\": 79,\n        \"samples\": [\n          2.31,\n          2.43,\n          2.52\n        ],\n        \"semantic_type\": \"\",\n        \"description\": \"\"\n      }\n    },\n    {\n      \"column\": \"alcalinity_of_ash\",\n      \"properties\": {\n        \"dtype\": \"number\",\n        \"std\": 3.3395637671735052,\n        \"min\": 10.6,\n        \"max\": 30.0,\n        \"num_unique_values\": 63,\n        \"samples\": [\n          25.5,\n          28.5,\n          15.6\n        ],\n        \"semantic_type\": \"\",\n        \"description\": \"\"\n      }\n    },\n    {\n      \"column\": \"magnesium\",\n      \"properties\": {\n        \"dtype\": \"number\",\n        \"std\": 14.282483515295668,\n        \"min\": 70.0,\n        \"max\": 162.0,\n        \"num_unique_values\": 53,\n        \"samples\": [\n          126.0,\n          85.0,\n          162.0\n        ],\n        \"semantic_type\": \"\",\n        \"description\": \"\"\n      }\n    },\n    {\n      \"column\": \"total_phenols\",\n      \"properties\": {\n        \"dtype\": \"number\",\n        \"std\": 0.6258510488339891,\n        \"min\": 0.98,\n        \"max\": 3.88,\n        \"num_unique_values\": 97,\n        \"samples\": [\n          1.68,\n          2.11,\n          1.35\n        ],\n        \"semantic_type\": \"\",\n        \"description\": \"\"\n      }\n    },\n    {\n      \"column\": \"flavanoids\",\n      \"properties\": {\n        \"dtype\": \"number\",\n        \"std\": 0.9988586850169465,\n        \"min\": 0.34,\n        \"max\": 5.08,\n        \"num_unique_values\": 132,\n        \"samples\": [\n          3.18,\n          2.5,\n          3.17\n        ],\n        \"semantic_type\": \"\",\n        \"description\": \"\"\n      }\n    },\n    {\n      \"column\": \"nonflavanoid_phenols\",\n      \"properties\": {\n        \"dtype\": \"number\",\n        \"std\": 0.12445334029667939,\n        \"min\": 0.13,\n        \"max\": 0.66,\n        \"num_unique_values\": 39,\n        \"samples\": [\n          0.58,\n          0.41,\n          0.39\n        ],\n        \"semantic_type\": \"\",\n        \"description\": \"\"\n      }\n    },\n    {\n      \"column\": \"proanthocyanins\",\n      \"properties\": {\n        \"dtype\": \"number\",\n        \"std\": 0.5723588626747611,\n        \"min\": 0.41,\n        \"max\": 3.58,\n        \"num_unique_values\": 101,\n        \"samples\": [\n          0.75,\n          1.77,\n          1.42\n        ],\n        \"semantic_type\": \"\",\n        \"description\": \"\"\n      }\n    },\n    {\n      \"column\": \"color_intensity\",\n      \"properties\": {\n        \"dtype\": \"number\",\n        \"std\": 2.318285871822413,\n        \"min\": 1.28,\n        \"max\": 13.0,\n        \"num_unique_values\": 132,\n        \"samples\": [\n          2.95,\n          3.3,\n          5.1\n        ],\n        \"semantic_type\": \"\",\n        \"description\": \"\"\n      }\n    },\n    {\n      \"column\": \"hue\",\n      \"properties\": {\n        \"dtype\": \"number\",\n        \"std\": 0.22857156582982338,\n        \"min\": 0.48,\n        \"max\": 1.71,\n        \"num_unique_values\": 78,\n        \"samples\": [\n          1.22,\n          1.04,\n          1.45\n        ],\n        \"semantic_type\": \"\",\n        \"description\": \"\"\n      }\n    },\n    {\n      \"column\": \"od280/od315_of_diluted_wines\",\n      \"properties\": {\n        \"dtype\": \"number\",\n        \"std\": 0.7099904287650505,\n        \"min\": 1.27,\n        \"max\": 4.0,\n        \"num_unique_values\": 122,\n        \"samples\": [\n          4.0,\n          1.82,\n          1.59\n        ],\n        \"semantic_type\": \"\",\n        \"description\": \"\"\n      }\n    },\n    {\n      \"column\": \"proline\",\n      \"properties\": {\n        \"dtype\": \"number\",\n        \"std\": 314.9074742768489,\n        \"min\": 278.0,\n        \"max\": 1680.0,\n        \"num_unique_values\": 121,\n        \"samples\": [\n          1375.0,\n          1270.0,\n          735.0\n        ],\n        \"semantic_type\": \"\",\n        \"description\": \"\"\n      }\n    },\n    {\n      \"column\": \"target\",\n      \"properties\": {\n        \"dtype\": \"number\",\n        \"std\": 0,\n        \"min\": 0,\n        \"max\": 2,\n        \"num_unique_values\": 3,\n        \"samples\": [\n          0,\n          1,\n          2\n        ],\n        \"semantic_type\": \"\",\n        \"description\": \"\"\n      }\n    }\n  ]\n}"
            }
          },
          "metadata": {},
          "execution_count": 28
        }
      ],
      "source": [
        "from sklearn.datasets import load_wine\n",
        "from sklearn.linear_model import LogisticRegression\n",
        "from sklearn.metrics import accuracy_score\n",
        "\n",
        "wine = load_wine()\n",
        "X, y = wine.data, wine.target\n",
        "\n",
        "wine_df = pd.DataFrame(X, columns=wine.feature_names)\n",
        "wine_df[\"target\"] = y\n",
        "wine_df.head(5)"
      ]
    },
    {
      "cell_type": "markdown",
      "metadata": {
        "id": "RnmFcpsYYwLN"
      },
      "source": [
        "Посмотрим на диапазоны значений признаков:"
      ]
    },
    {
      "cell_type": "code",
      "execution_count": 29,
      "metadata": {
        "colab": {
          "base_uri": "https://localhost:8080/"
        },
        "id": "yvWIe9c7YwLN",
        "outputId": "436e4985-8305-4e13-ccf6-2882a6dd963f"
      },
      "outputs": [
        {
          "output_type": "stream",
          "name": "stdout",
          "text": [
            "alcohol: 11.03 - 14.83\n",
            "malic_acid: 0.74 - 5.80\n",
            "ash: 1.36 - 3.23\n",
            "alcalinity_of_ash: 10.60 - 30.00\n",
            "magnesium: 70.00 - 162.00\n",
            "total_phenols: 0.98 - 3.88\n",
            "flavanoids: 0.34 - 5.08\n",
            "nonflavanoid_phenols: 0.13 - 0.66\n",
            "proanthocyanins: 0.41 - 3.58\n",
            "color_intensity: 1.28 - 13.00\n",
            "hue: 0.48 - 1.71\n",
            "od280/od315_of_diluted_wines: 1.27 - 4.00\n",
            "proline: 278.00 - 1680.00\n"
          ]
        }
      ],
      "source": [
        "for i, feature in enumerate(wine.feature_names):\n",
        "    print(f\"{feature}: {X[:, i].min():.2f} - {X[:, i].max():.2f}\")"
      ]
    },
    {
      "cell_type": "markdown",
      "metadata": {
        "id": "lnoIn0efYwLN"
      },
      "source": [
        "Как видно, значения некоторых признаков принимают значения не более 10, в то время как есть признак у которого минимальное значение больше сотни. Покажем, что путем нормализации этих данных можно значительно повысить метрики классификации:"
      ]
    },
    {
      "cell_type": "code",
      "execution_count": 30,
      "metadata": {
        "id": "Qov3JPntYwLN"
      },
      "outputs": [],
      "source": [
        "X_train, X_test, y_train, y_test = train_test_split(\n",
        "    X, y, test_size=0.25, random_state=42, stratify=y\n",
        ")"
      ]
    },
    {
      "cell_type": "markdown",
      "metadata": {
        "id": "kR9Jf3bqYwLN"
      },
      "source": [
        "Обучим логистическую регрессию на исходных данных:"
      ]
    },
    {
      "cell_type": "code",
      "execution_count": 34,
      "metadata": {
        "colab": {
          "base_uri": "https://localhost:8080/"
        },
        "id": "259RWnV9YwLN",
        "outputId": "e28aea6a-bdc6-4efc-988b-5fa562cdbe4d"
      },
      "outputs": [
        {
          "output_type": "stream",
          "name": "stdout",
          "text": [
            "Accuracy: 0.9555555555555556\n"
          ]
        }
      ],
      "source": [
        "model_raw = LogisticRegression(\n",
        "    random_state=42,\n",
        "    max_iter=5000\n",
        ")\n",
        "model_raw.fit(X_train, y_train)\n",
        "\n",
        "y_pred_raw = model_raw.predict(X_test)\n",
        "accuracy_raw = accuracy_score(y_test, y_pred_raw)\n",
        "print(f'Accuracy: {accuracy_raw}')"
      ]
    },
    {
      "cell_type": "markdown",
      "metadata": {
        "id": "abPqXw36YwLO"
      },
      "source": [
        "Применим стандартную нормализацию данных:"
      ]
    },
    {
      "cell_type": "code",
      "execution_count": 35,
      "metadata": {
        "colab": {
          "base_uri": "https://localhost:8080/"
        },
        "id": "BUqkezceYwLO",
        "outputId": "b46d5d2d-f03e-461c-fe37-9f2e7d5f6e9b"
      },
      "outputs": [
        {
          "output_type": "stream",
          "name": "stdout",
          "text": [
            "Accuracy: 1.0\n"
          ]
        }
      ],
      "source": [
        "scaler = StandardScaler()\n",
        "X_train_scaled = scaler.fit_transform(X_train)\n",
        "X_test_scaled = scaler.transform(X_test)\n",
        "\n",
        "model_scaled = LogisticRegression(\n",
        "    random_state=42,\n",
        "    max_iter=1000\n",
        ")\n",
        "model_scaled.fit(X_train_scaled, y_train)\n",
        "y_pred_scaled = model_scaled.predict(X_test_scaled)\n",
        "accuracy_scaled = accuracy_score(y_test, y_pred_scaled)\n",
        "print(f'Accuracy: {accuracy_scaled}')"
      ]
    },
    {
      "cell_type": "markdown",
      "metadata": {
        "id": "_KVjTXPkYwLO"
      },
      "source": [
        "Accuracy заметно выросло."
      ]
    },
    {
      "cell_type": "code",
      "execution_count": 36,
      "metadata": {
        "colab": {
          "base_uri": "https://localhost:8080/"
        },
        "id": "KK-QaPkSYwLO",
        "outputId": "955fe6ef-1adf-4373-9fe5-dd703f83c61d"
      },
      "outputs": [
        {
          "output_type": "stream",
          "name": "stdout",
          "text": [
            "Accuracy: 0.9777777777777777\n"
          ]
        }
      ],
      "source": [
        "scaler = RobustScaler()\n",
        "X_train_scaled = scaler.fit_transform(X_train)\n",
        "X_test_scaled = scaler.transform(X_test)\n",
        "\n",
        "model_scaled = LogisticRegression(\n",
        "    random_state=42,\n",
        "    max_iter=1000\n",
        ")\n",
        "model_scaled.fit(X_train_scaled, y_train)\n",
        "y_pred_scaled = model_scaled.predict(X_test_scaled)\n",
        "accuracy_scaled = accuracy_score(y_test, y_pred_scaled)\n",
        "print(f'Accuracy: {accuracy_scaled}')"
      ]
    },
    {
      "cell_type": "markdown",
      "metadata": {
        "id": "JDumGuBdYwLO"
      },
      "source": [
        "Как видно нормализация данных может заметно повысить качество работы ML алгоритмов на данных."
      ]
    },
    {
      "cell_type": "markdown",
      "metadata": {
        "id": "-vBkAblSYwLO"
      },
      "source": [
        "Попробуем аналогично поступить с моделью на основе ближайших соседей."
      ]
    },
    {
      "cell_type": "markdown",
      "metadata": {
        "id": "XbUyAEZ0YwLO"
      },
      "source": [
        "Без нормализации:"
      ]
    },
    {
      "cell_type": "code",
      "execution_count": 37,
      "metadata": {
        "colab": {
          "base_uri": "https://localhost:8080/"
        },
        "id": "76vVjy4SYwLO",
        "outputId": "2c0af04c-fb4c-4dd7-9b9f-b0e0cf0dde82"
      },
      "outputs": [
        {
          "output_type": "stream",
          "name": "stdout",
          "text": [
            "Accuracy: 0.7777777777777778\n"
          ]
        }
      ],
      "source": [
        "from sklearn.neighbors import KNeighborsClassifier\n",
        "model_raw = KNeighborsClassifier(\n",
        "    n_neighbors=5,\n",
        "    metric='euclidean'\n",
        ")\n",
        "model_raw.fit(X_train, y_train)\n",
        "\n",
        "y_pred_raw = model_raw.predict(X_test)\n",
        "accuracy_raw = accuracy_score(y_test, y_pred_raw)\n",
        "print(f'Accuracy: {accuracy_raw}')"
      ]
    },
    {
      "cell_type": "markdown",
      "metadata": {
        "id": "VJjnmFPZYwLP"
      },
      "source": [
        "С нормализацией:"
      ]
    },
    {
      "cell_type": "code",
      "execution_count": 38,
      "metadata": {
        "colab": {
          "base_uri": "https://localhost:8080/"
        },
        "id": "K7oMJjfuYwLP",
        "outputId": "6d6fa641-8534-4a63-c913-98bbb3767d9a"
      },
      "outputs": [
        {
          "output_type": "stream",
          "name": "stdout",
          "text": [
            "Accuracy: 0.9333333333333333\n"
          ]
        }
      ],
      "source": [
        "model_scaled = KNeighborsClassifier(\n",
        "    n_neighbors=5,\n",
        "    metric='euclidean'\n",
        ")\n",
        "model_scaled.fit(X_train_scaled, y_train)\n",
        "y_pred_scaled = model_scaled.predict(X_test_scaled)\n",
        "accuracy_scaled = accuracy_score(y_test, y_pred_scaled)\n",
        "print(f'Accuracy: {accuracy_scaled}')"
      ]
    },
    {
      "cell_type": "markdown",
      "metadata": {
        "id": "nopfvRJeYwLP"
      },
      "source": [
        "В этом примере разница еще значительнее."
      ]
    },
    {
      "cell_type": "markdown",
      "metadata": {
        "id": "7F041285YwK3"
      },
      "source": [
        "## Работа с текстовыми данными\n",
        "\n",
        "Как правило, модели машинного обучения действуют в предположении, что матрица \"объект-признак\" является вещественнозначной, поэтому при работе с текстами сперва для каждого из них необходимо составить его признаковое описание. Для этого широко используются техники векторизации, tf-idf и пр. Рассмотрим их на примере [датасета](https://www.dropbox.com/s/f9xsff8xluriy95/banki_responses.json.bz2?dl=0) отзывов о банках.\n",
        "\n",
        "Сперва загрузим данные:"
      ]
    },
    {
      "cell_type": "code",
      "execution_count": 39,
      "metadata": {
        "ExecuteTime": {
          "end_time": "2019-09-28T19:10:18.959288Z",
          "start_time": "2019-09-28T19:10:18.346983Z"
        },
        "id": "YplzwV2PYwK3"
      },
      "outputs": [],
      "source": [
        "data = fetch_20newsgroups(subset='all', categories=['comp.graphics', 'sci.med'])"
      ]
    },
    {
      "cell_type": "markdown",
      "metadata": {
        "id": "zUSpcGWTYwK3"
      },
      "source": [
        "Данные содержат тексты новостей, которые надо классифицировать на разделы."
      ]
    },
    {
      "cell_type": "code",
      "execution_count": 40,
      "metadata": {
        "ExecuteTime": {
          "end_time": "2019-09-28T19:10:18.987312Z",
          "start_time": "2019-09-28T19:10:18.964475Z"
        },
        "colab": {
          "base_uri": "https://localhost:8080/"
        },
        "id": "LilQ2lkKYwK4",
        "outputId": "0fdc3f37-9ba7-47a6-c60f-d89a9f4a33f9"
      },
      "outputs": [
        {
          "output_type": "execute_result",
          "data": {
            "text/plain": [
              "['comp.graphics', 'sci.med']"
            ]
          },
          "metadata": {},
          "execution_count": 40
        }
      ],
      "source": [
        "data['target_names']"
      ]
    },
    {
      "cell_type": "code",
      "execution_count": 41,
      "metadata": {
        "ExecuteTime": {
          "end_time": "2019-09-28T19:10:19.012942Z",
          "start_time": "2019-09-28T19:10:18.997929Z"
        },
        "id": "ExGdfiQzYwK4"
      },
      "outputs": [],
      "source": [
        "texts = data['data']\n",
        "target = data['target']"
      ]
    },
    {
      "cell_type": "markdown",
      "metadata": {
        "id": "oUoro_LvYwK4"
      },
      "source": [
        "Например:"
      ]
    },
    {
      "cell_type": "code",
      "execution_count": 42,
      "metadata": {
        "ExecuteTime": {
          "end_time": "2019-09-28T19:10:19.060074Z",
          "start_time": "2019-09-28T19:10:19.019838Z"
        },
        "scrolled": true,
        "colab": {
          "base_uri": "https://localhost:8080/",
          "height": 157
        },
        "id": "w4j6RPEQYwK4",
        "outputId": "598bcd6f-4887-40b0-f6af-b2f1f774a1ac"
      },
      "outputs": [
        {
          "output_type": "execute_result",
          "data": {
            "text/plain": [
              "'From: dyer@spdcc.com (Steve Dyer)\\nSubject: Re: Analgesics with Diuretics\\nOrganization: S.P. Dyer Computer Consulting, Cambridge MA\\n\\nIn article <ofk=lve00WB2AvUktO@andrew.cmu.edu> Lawrence Curcio <lc2b+@andrew.cmu.edu> writes:\\n>I sometimes see OTC preparations for muscle aches/back aches that\\n>combine aspirin with a diuretic.\\n\\nYou certainly do not see OTC preparations advertised as such.\\nThe only such ridiculous concoctions are nostrums for premenstrual\\nsyndrome, ostensibly to treat headache and \"bloating\" simultaneously.\\nThey\\'re worthless.\\n\\n>The idea seems to be to reduce\\n>inflammation by getting rid of fluid. Does this actually work? \\n\\nThat\\'s not the idea, and no, they don\\'t work.\\n\\n-- \\nSteve Dyer\\ndyer@ursa-major.spdcc.com aka {ima,harvard,rayssd,linus,m2c}!spdcc!dyer\\n'"
            ],
            "application/vnd.google.colaboratory.intrinsic+json": {
              "type": "string"
            }
          },
          "metadata": {},
          "execution_count": 42
        }
      ],
      "source": [
        "texts[0]"
      ]
    },
    {
      "cell_type": "code",
      "execution_count": 43,
      "metadata": {
        "ExecuteTime": {
          "end_time": "2019-09-28T19:10:19.164963Z",
          "start_time": "2019-09-28T19:10:19.131795Z"
        },
        "colab": {
          "base_uri": "https://localhost:8080/",
          "height": 35
        },
        "id": "Nmv6-fCTYwK5",
        "outputId": "64c5bcf1-c13a-4aad-d1bc-68c51b917a27"
      },
      "outputs": [
        {
          "output_type": "execute_result",
          "data": {
            "text/plain": [
              "'sci.med'"
            ],
            "application/vnd.google.colaboratory.intrinsic+json": {
              "type": "string"
            }
          },
          "metadata": {},
          "execution_count": 43
        }
      ],
      "source": [
        "data['target_names'][target[0]]"
      ]
    },
    {
      "cell_type": "markdown",
      "metadata": {
        "id": "5epEkmlQYwK5"
      },
      "source": [
        "### Bag-of-words\n",
        "\n",
        "Самый очевидный способ формирования признакового описания текстов — векторизация. Пусть у нас имеется коллекция текстов $D = \\{d_i\\}_{i=1}^l$ и словарь всех слов, встречающихся в выборке $V = \\{v_j\\}_{j=1}^d.$ В этом случае некоторый текст $d_i$ описывается вектором $(x_{ij})_{j=1}^d,$ где\n",
        "$$x_{ij} = \\sum_{v \\in d_i} [v = v_j].$$\n",
        "\n",
        "Таким образом, текст $d_i$ описывается вектором количества вхождений каждого слова из словаря в данный текст."
      ]
    },
    {
      "cell_type": "code",
      "execution_count": 44,
      "metadata": {
        "ExecuteTime": {
          "end_time": "2019-09-28T19:10:19.833837Z",
          "start_time": "2019-09-28T19:10:19.175011Z"
        },
        "id": "JiLCwRRzYwK5"
      },
      "outputs": [],
      "source": [
        "from sklearn.feature_extraction.text import CountVectorizer\n",
        "\n",
        "vectorizer = CountVectorizer(encoding='utf8', min_df=1)\n",
        "_ = vectorizer.fit(texts)"
      ]
    },
    {
      "cell_type": "markdown",
      "metadata": {
        "id": "fr92TAE-YwK5"
      },
      "source": [
        "Результатом является разреженная матрица."
      ]
    },
    {
      "cell_type": "code",
      "execution_count": 45,
      "metadata": {
        "ExecuteTime": {
          "end_time": "2019-09-28T19:10:19.851338Z",
          "start_time": "2019-09-28T19:10:19.837509Z"
        },
        "colab": {
          "base_uri": "https://localhost:8080/"
        },
        "id": "rhD5kfMRYwK5",
        "outputId": "be75a26f-d76f-4631-feb5-729c7acdd0f3"
      },
      "outputs": [
        {
          "output_type": "execute_result",
          "data": {
            "text/plain": [
              "<Compressed Sparse Row sparse matrix of dtype 'int64'\n",
              "\twith 86 stored elements and shape (1, 32548)>"
            ]
          },
          "metadata": {},
          "execution_count": 45
        }
      ],
      "source": [
        "vectorizer.transform(texts[:1])"
      ]
    },
    {
      "cell_type": "code",
      "execution_count": 46,
      "metadata": {
        "ExecuteTime": {
          "end_time": "2019-09-28T19:10:19.872060Z",
          "start_time": "2019-09-28T19:10:19.854688Z"
        },
        "colab": {
          "base_uri": "https://localhost:8080/"
        },
        "id": "P1slWV58YwK6",
        "outputId": "c9dbd5e4-a07a-4a13-b4ba-48f2499741f7"
      },
      "outputs": [
        {
          "output_type": "stream",
          "name": "stdout",
          "text": [
            "[ 0 86]\n",
            "[ 3905  3983  4143  4345  4665  4701  4712  5074  5176  5198  5242  5619\n",
            "  5870  6348  6984  7232  7630  8267  8451  8460  8682  8733  8916  9557\n",
            " 10811 10812 10901 10933 10971 11312 11488 13133 13226 13463 13866 14726\n",
            " 14806 15682 15805 15952 16147 18002 18031 18373 18740 18781 18790 18936\n",
            " 20420 21036 21164 21166 21494 21518 21622 21769 21839 21856 23589 23602\n",
            " 24556 24592 24803 25502 25513 26464 26474 27021 27398 27518 27940 28199\n",
            " 28286 28687 29187 29189 29264 29300 29500 29837 30702 31915 32005 32052\n",
            " 32095 32392]\n",
            "[2 1 1 1 1 2 2 1 1 1 1 1 1 1 1 1 1 2 2 1 1 1 1 1 1 1 1 1 1 6 2 1 2 1 1 1 1\n",
            " 2 1 1 1 1 1 1 1 1 1 1 1 1 1 2 1 1 1 1 1 2 1 2 1 2 1 1 1 2 1 1 1 3 2 1 2 1\n",
            " 2 3 2 1 3 1 1 2 2 1 1 1]\n"
          ]
        }
      ],
      "source": [
        "print(vectorizer.transform(texts[:1]).indptr)\n",
        "print(vectorizer.transform(texts[:1]).indices)\n",
        "print(vectorizer.transform(texts[:1]).data)"
      ]
    },
    {
      "cell_type": "markdown",
      "metadata": {
        "id": "7uknGNcXYwK6"
      },
      "source": [
        "### TF-IDF\n",
        "\n",
        "Ещё один способ работы с текстовыми данными — [TF-IDF](https://en.wikipedia.org/wiki/Tf–idf) (**T**erm **F**requency–**I**nverse **D**ocument **F**requency). Рассмотрим коллекцию текстов $D$.  Для каждого уникального слова $t$ из документа $d \\in D$ вычислим следующие величины:\n",
        "\n",
        "1. Term Frequency – количество вхождений слова в отношении к общему числу слов в тексте:\n",
        "$$\\text{tf}(t, d) = \\frac{n_{td}}{\\sum_{t \\in d} n_{td}},$$\n",
        "где $n_{td}$ — количество вхождений слова $t$ в текст $d$.\n",
        "1. Inverse Document Frequency\n",
        "$$\\text{idf}(t, D) = \\log \\frac{\\left| D \\right|}{\\left| \\{d\\in D: t \\in d\\} \\right|},$$\n",
        "где $\\left| \\{d\\in D: t \\in d\\} \\right|$ – количество текстов в коллекции, содержащих слово $t$.\n",
        "\n",
        "Тогда для каждой пары (слово, текст) $(t, d)$ вычислим величину:\n",
        "\n",
        "$$\\text{tf-idf}(t,d, D) = \\text{tf}(t, d)\\cdot \\text{idf}(t, D).$$\n",
        "\n",
        "Отметим, что значение $\\text{tf}(t, d)$ корректируется для часто встречающихся общеупотребимых слов при помощи значения $\\text{idf}(t, D)$."
      ]
    },
    {
      "cell_type": "code",
      "execution_count": 47,
      "metadata": {
        "ExecuteTime": {
          "end_time": "2019-09-28T19:10:20.548074Z",
          "start_time": "2019-09-28T19:10:19.877266Z"
        },
        "id": "r-NDFYqeYwK6"
      },
      "outputs": [],
      "source": [
        "from sklearn.feature_extraction.text import TfidfVectorizer\n",
        "\n",
        "vectorizer = TfidfVectorizer(encoding='utf8', min_df=1)\n",
        "_ = vectorizer.fit(texts)"
      ]
    },
    {
      "cell_type": "markdown",
      "metadata": {
        "id": "E0_xH54uYwK6"
      },
      "source": [
        "На выходе получаем разреженную матрицу."
      ]
    },
    {
      "cell_type": "code",
      "execution_count": 48,
      "metadata": {
        "ExecuteTime": {
          "end_time": "2019-09-28T19:10:20.569113Z",
          "start_time": "2019-09-28T19:10:20.550328Z"
        },
        "colab": {
          "base_uri": "https://localhost:8080/"
        },
        "id": "icUf383xYwK6",
        "outputId": "2ddce2b3-7741-4918-ff43-9f6656c564cd"
      },
      "outputs": [
        {
          "output_type": "execute_result",
          "data": {
            "text/plain": [
              "<Compressed Sparse Row sparse matrix of dtype 'float64'\n",
              "\twith 86 stored elements and shape (1, 32548)>"
            ]
          },
          "metadata": {},
          "execution_count": 48
        }
      ],
      "source": [
        "vectorizer.transform(texts[:1])"
      ]
    },
    {
      "cell_type": "code",
      "execution_count": 49,
      "metadata": {
        "ExecuteTime": {
          "end_time": "2019-09-28T19:10:20.601343Z",
          "start_time": "2019-09-28T19:10:20.574776Z"
        },
        "colab": {
          "base_uri": "https://localhost:8080/"
        },
        "id": "E80PLe8BYwK6",
        "outputId": "62face7a-74d3-4ddc-b375-8c5fa52ba2a8"
      },
      "outputs": [
        {
          "output_type": "stream",
          "name": "stdout",
          "text": [
            "[ 0 86]\n",
            "[ 3905  3983  4143  4345  4665  4701  4712  5074  5176  5198  5242  5619\n",
            "  5870  6348  6984  7232  7630  8267  8451  8460  8682  8733  8916  9557\n",
            " 10811 10812 10901 10933 10971 11312 11488 13133 13226 13463 13866 14726\n",
            " 14806 15682 15805 15952 16147 18002 18031 18373 18740 18781 18790 18936\n",
            " 20420 21036 21164 21166 21494 21518 21622 21769 21839 21856 23589 23602\n",
            " 24556 24592 24803 25502 25513 26464 26474 27021 27398 27518 27940 28199\n",
            " 28286 28687 29187 29189 29264 29300 29500 29837 30702 31915 32005 32052\n",
            " 32095 32392]\n",
            "[0.23738007 0.05913563 0.10946036 0.0819996  0.10531547 0.03925604\n",
            " 0.15610804 0.02850602 0.03099918 0.03071828 0.10946036 0.05392398\n",
            " 0.02634071 0.11869004 0.03432907 0.0833942  0.06679843 0.16490298\n",
            " 0.06487218 0.09925063 0.04302873 0.12343474 0.08984071 0.10357777\n",
            " 0.11869004 0.11500976 0.03418115 0.03886054 0.03809625 0.48428276\n",
            " 0.04826154 0.09689049 0.04338328 0.01649287 0.06089811 0.07172143\n",
            " 0.08719619 0.1325496  0.08913878 0.01987357 0.08913878 0.08659639\n",
            " 0.10531547 0.0833942  0.12343474 0.09057384 0.07172143 0.06358581\n",
            " 0.0854585  0.03769659 0.12343474 0.05632337 0.01848065 0.12343474\n",
            " 0.04332515 0.01703927 0.12343474 0.18429156 0.11869004 0.23738007\n",
            " 0.09057384 0.04893556 0.08113136 0.09482619 0.10057076 0.09712269\n",
            " 0.05646637 0.09802838 0.0710195  0.25018259 0.12280349 0.01649287\n",
            " 0.0955189  0.07125018 0.04646966 0.05440145 0.07527191 0.02543534\n",
            " 0.05521512 0.0751644  0.08913878 0.05551552 0.10097852 0.10357777\n",
            " 0.030364   0.02775776]\n"
          ]
        }
      ],
      "source": [
        "print(vectorizer.transform(texts[:1]).indptr)\n",
        "print(vectorizer.transform(texts[:1]).indices)\n",
        "print(vectorizer.transform(texts[:1]).data)"
      ]
    },
    {
      "cell_type": "markdown",
      "metadata": {
        "id": "l_O3jYKYYwK7"
      },
      "source": [
        "Заметим, что оба метода возвращают вектор длины 32548 (размер нашего словаря)."
      ]
    },
    {
      "cell_type": "markdown",
      "metadata": {
        "id": "HBWdHzM7YwK7"
      },
      "source": [
        "Заметим, что одно и то же слово может встречаться в различных формах (например, \"сотрудник\" и \"сотрудника\"), но описанные выше методы интерпретируют их как различные слова, что делает признаковое описание избыточным. Устранить эту проблему можно при помощи **лемматизации** и **стемминга**.\n",
        "\n",
        "### Стемминг\n",
        "\n",
        "[**Stemming**](https://en.wikipedia.org/wiki/Stemming) –  это процесс нахождения основы слова. В результате применения данной процедуры однокоренные слова, как правило, преобразуются к одинаковому виду.\n",
        "\n",
        "**Примеры стемминга:**\n",
        "\n",
        "| Word        | Stem           |\n",
        "| ----------- |:-------------:|\n",
        "| вагон | вагон |\n",
        "| вагона | вагон |\n",
        "| вагоне | вагон |\n",
        "| вагонов | вагон |\n",
        "| вагоном | вагон |\n",
        "| вагоны | вагон |\n",
        "| важная | важн |\n",
        "| важнее | важн |\n",
        "| важнейшие | важн |\n",
        "| важнейшими | важн |\n",
        "| важничал | важнича |\n",
        "| важно | важн |\n",
        "\n",
        "[Snowball](http://snowball.tartarus.org/) – фрэймворк для написания алгоритмов стемминга. Алгоритмы стемминга отличаются для разных языков и используют знания о конкретном языке – списки окончаний для разных чистей речи, разных склонений и т.д. Пример алгоритма для русского языка – [Russian stemming](http://snowballstem.org/algorithms/russian/stemmer.html)."
      ]
    },
    {
      "cell_type": "code",
      "execution_count": 50,
      "metadata": {
        "ExecuteTime": {
          "end_time": "2019-09-28T19:10:21.109437Z",
          "start_time": "2019-09-28T19:10:20.604439Z"
        },
        "id": "DaFTagzFYwK7"
      },
      "outputs": [],
      "source": [
        "import nltk\n",
        "stemmer = nltk.stem.snowball.RussianStemmer()"
      ]
    },
    {
      "cell_type": "code",
      "execution_count": 51,
      "metadata": {
        "ExecuteTime": {
          "end_time": "2019-09-28T19:10:21.130340Z",
          "start_time": "2019-09-28T19:10:21.112772Z"
        },
        "colab": {
          "base_uri": "https://localhost:8080/"
        },
        "id": "ePeD6vGtYwK7",
        "outputId": "fce92797-e681-44f7-ab6d-c48cae305438"
      },
      "outputs": [
        {
          "output_type": "stream",
          "name": "stdout",
          "text": [
            "машин обучен\n"
          ]
        }
      ],
      "source": [
        "print(stemmer.stem(u'машинное'), stemmer.stem(u'обучение'))"
      ]
    },
    {
      "cell_type": "code",
      "execution_count": 52,
      "metadata": {
        "ExecuteTime": {
          "end_time": "2019-09-28T19:10:25.274844Z",
          "start_time": "2019-09-28T19:10:21.135760Z"
        },
        "colab": {
          "base_uri": "https://localhost:8080/"
        },
        "id": "srxCYp7-YwK7",
        "outputId": "3fb5d9e6-abfb-43a2-d67d-dad43331c642"
      },
      "outputs": [
        {
          "output_type": "stream",
          "name": "stderr",
          "text": [
            "100%|██████████| 1000/1000 [00:03<00:00, 328.44it/s]\n"
          ]
        }
      ],
      "source": [
        "stemmer = nltk.stem.snowball.EnglishStemmer()\n",
        "\n",
        "def stem_text(text, stemmer):\n",
        "    tokens = text.split()\n",
        "    return ' '.join(map(lambda w: stemmer.stem(w), tokens))\n",
        "\n",
        "stemmed_texts = []\n",
        "for t in tqdm(texts[:1000]):\n",
        "    stemmed_texts.append(stem_text(t, stemmer))"
      ]
    },
    {
      "cell_type": "code",
      "execution_count": 53,
      "metadata": {
        "ExecuteTime": {
          "end_time": "2019-09-28T19:10:25.290119Z",
          "start_time": "2019-09-28T19:10:25.279611Z"
        },
        "colab": {
          "base_uri": "https://localhost:8080/"
        },
        "id": "7RbU_5CNYwK8",
        "outputId": "29b1c144-ef6a-409c-e30f-85fa1c7486e9"
      },
      "outputs": [
        {
          "output_type": "stream",
          "name": "stdout",
          "text": [
            "From: dyer@spdcc.com (Steve Dyer)\n",
            "Subject: Re: Analgesics with Diuretics\n",
            "Organization: S.P. Dyer Computer Consulting, Cambridge MA\n",
            "\n",
            "In article <ofk=lve00WB2AvUktO@andrew.cmu.edu> Lawrence Curcio <lc2b+@andrew.cmu.edu> writes:\n",
            ">I sometimes see OTC preparations for muscle aches/back aches that\n",
            ">combine aspirin with a diuretic.\n",
            "\n",
            "You certainly do not see OTC preparations advertised as such.\n",
            "The only such ridiculous concoctions are nostrums for premenstrual\n",
            "syndrome, ostensibly to treat headache and \"bloating\" simultaneously.\n",
            "They're worthless.\n",
            "\n",
            ">The idea seems to be to reduce\n",
            ">inflammation by getting rid of fluid. Does this actually work? \n",
            "\n",
            "That's not the idea, and no, they don't work.\n",
            "\n",
            "-- \n",
            "Steve Dyer\n",
            "dyer@ursa-major.spdcc.com aka {ima,harvard,rayssd,linus,m2c}!spdcc!dyer\n",
            "\n"
          ]
        }
      ],
      "source": [
        "print(texts[0])"
      ]
    },
    {
      "cell_type": "code",
      "execution_count": 54,
      "metadata": {
        "ExecuteTime": {
          "end_time": "2019-09-28T19:10:25.306834Z",
          "start_time": "2019-09-28T19:10:25.294638Z"
        },
        "colab": {
          "base_uri": "https://localhost:8080/"
        },
        "id": "XZLc-5OQYwK8",
        "outputId": "2eeed30d-cb96-4fe9-fbad-32533572fda0"
      },
      "outputs": [
        {
          "output_type": "stream",
          "name": "stdout",
          "text": [
            "from: dyer@spdcc.com (steve dyer) subject: re: analges with diuret organization: s.p. dyer comput consulting, cambridg ma in articl <ofk=lve00wb2avukto@andrew.cmu.edu> lawrenc curcio <lc2b+@andrew.cmu.edu> writes: >i sometim see otc prepar for muscl aches/back ach that >combin aspirin with a diuretic. you certain do not see otc prepar advertis as such. the onli such ridicul concoct are nostrum for premenstru syndrome, ostens to treat headach and \"bloating\" simultaneously. they'r worthless. >the idea seem to be to reduc >inflamm by get rid of fluid. doe this actual work? that not the idea, and no, they don't work. -- steve dyer dyer@ursa-major.spdcc.com aka {ima,harvard,rayssd,linus,m2c}!spdcc!dy\n"
          ]
        }
      ],
      "source": [
        "print(stemmed_texts[0])"
      ]
    },
    {
      "cell_type": "markdown",
      "metadata": {
        "id": "H9ugRekpYwK8"
      },
      "source": [
        "Как видим, стеммер работает не очень быстро и запускать его для всей выборки достаточно накладно."
      ]
    },
    {
      "cell_type": "markdown",
      "metadata": {
        "id": "jZScHpBYYwK8"
      },
      "source": [
        "### Лемматизация\n",
        "\n",
        "[Лемматизация](https://en.wikipedia.org/wiki/Lemmatisation) — процесс приведения слова к его нормальной форме (**лемме**):\n",
        "- для существительных — именительный падеж, единственное число;\n",
        "- для прилагательных — именительный падеж, единственное число, мужской род;\n",
        "- для глаголов, причастий, деепричастий — глагол в инфинитиве."
      ]
    },
    {
      "cell_type": "markdown",
      "metadata": {
        "id": "Nh0xEBntYwK8"
      },
      "source": [
        "Например, для русского языка есть библиотека pymorphy3."
      ]
    },
    {
      "cell_type": "code",
      "source": [
        "!pip install pymorphy3"
      ],
      "metadata": {
        "id": "DgeVwgz_hTRR"
      },
      "execution_count": null,
      "outputs": []
    },
    {
      "cell_type": "code",
      "execution_count": 59,
      "metadata": {
        "ExecuteTime": {
          "end_time": "2019-09-28T19:10:25.442948Z",
          "start_time": "2019-09-28T19:10:25.311429Z"
        },
        "id": "XCWs4TaNYwK8"
      },
      "outputs": [],
      "source": [
        "import pymorphy3\n",
        "morph = pymorphy3.MorphAnalyzer()"
      ]
    },
    {
      "cell_type": "code",
      "execution_count": 60,
      "metadata": {
        "ExecuteTime": {
          "end_time": "2019-09-28T19:10:25.468072Z",
          "start_time": "2019-09-28T19:10:25.447023Z"
        },
        "colab": {
          "base_uri": "https://localhost:8080/"
        },
        "id": "QSyG2KzMYwK8",
        "outputId": "2e260501-170a-4456-9cc2-07b593262db1"
      },
      "outputs": [
        {
          "output_type": "execute_result",
          "data": {
            "text/plain": [
              "Parse(word='играющих', tag=OpencorporaTag('PRTF,Subx,impf,tran,pres,actv plur,gent'), normal_form='играть', score=0.6, methods_stack=((DictionaryAnalyzer(), 'играющих', 1694, 34),))"
            ]
          },
          "metadata": {},
          "execution_count": 60
        }
      ],
      "source": [
        "morph.parse('играющих')[0]"
      ]
    },
    {
      "cell_type": "markdown",
      "metadata": {
        "id": "vdeAkMywYwK9"
      },
      "source": [
        "Сравним работу стеммера и лемматизатора на примере:"
      ]
    },
    {
      "cell_type": "code",
      "execution_count": 61,
      "metadata": {
        "ExecuteTime": {
          "end_time": "2019-09-28T19:10:25.489016Z",
          "start_time": "2019-09-28T19:10:25.474203Z"
        },
        "colab": {
          "base_uri": "https://localhost:8080/"
        },
        "id": "0jhxbjo2YwK9",
        "outputId": "14d97dae-5096-4c30-f616-e8a2184f3ba9"
      },
      "outputs": [
        {
          "output_type": "stream",
          "name": "stdout",
          "text": [
            "игра\n"
          ]
        }
      ],
      "source": [
        "stemmer = nltk.stem.snowball.RussianStemmer()\n",
        "print(stemmer.stem('играющих'))"
      ]
    },
    {
      "cell_type": "code",
      "execution_count": 62,
      "metadata": {
        "ExecuteTime": {
          "end_time": "2019-09-28T19:10:25.502206Z",
          "start_time": "2019-09-28T19:10:25.493051Z"
        },
        "colab": {
          "base_uri": "https://localhost:8080/"
        },
        "id": "RfFzW99fYwK9",
        "outputId": "128b856a-3cba-4503-deec-5442e33ae91b"
      },
      "outputs": [
        {
          "output_type": "stream",
          "name": "stdout",
          "text": [
            "играть\n"
          ]
        }
      ],
      "source": [
        "print(morph.parse('играющих')[0].normal_form)"
      ]
    },
    {
      "cell_type": "markdown",
      "metadata": {
        "id": "bb2jYCCAYwLP"
      },
      "source": [
        "## Транзакционные данные"
      ]
    },
    {
      "cell_type": "markdown",
      "metadata": {
        "id": "MqTZo_FCYwLP"
      },
      "source": [
        "Напоследок посмотрим, как можно извлекать признаки из транзакционных данных.\n",
        "\n",
        "Транзакционные данные характеризуются тем, что есть много строк, характеризующихся моментов времени и некоторым числом (суммой денег, например). При этом если это банк, то каждому человеку принадлежит не одна транзакция, а чаще всего надо предсказывать некоторые сущности для клиентов. Таким образом, надо получить признаки для пользователей из множества их транзакций. Этим мы и займёмся.\n",
        "\n",
        "Для примера возьмём данные [отсюда](https://www.kaggle.com/regivm/retailtransactiondata/). Задача детектирования фродовых клиентов."
      ]
    },
    {
      "cell_type": "code",
      "execution_count": 63,
      "metadata": {
        "id": "PtxTOQQ6YwLP"
      },
      "outputs": [],
      "source": [
        "!wget  -O 'Retail_Data_Response.csv' -q 'https://www.dropbox.com/s/le9icl9syo22thh/Retail_Data_Response.csv?dl=0'\n",
        "!wget  -O 'Retail_Data_Transactions.csv' -q 'https://www.dropbox.com/s/obsxryxpfsdz3ut/Retail_Data_Transactions.csv?dl=0'"
      ]
    },
    {
      "cell_type": "code",
      "execution_count": 64,
      "metadata": {
        "ExecuteTime": {
          "end_time": "2019-09-28T19:10:34.314276Z",
          "start_time": "2019-09-28T19:10:34.231504Z"
        },
        "id": "q1PuFrfXYwLP"
      },
      "outputs": [],
      "source": [
        "customers = pd.read_csv('Retail_Data_Response.csv')\n",
        "transactions = pd.read_csv('Retail_Data_Transactions.csv')"
      ]
    },
    {
      "cell_type": "code",
      "execution_count": 65,
      "metadata": {
        "ExecuteTime": {
          "end_time": "2019-09-28T19:10:34.339478Z",
          "start_time": "2019-09-28T19:10:34.316390Z"
        },
        "colab": {
          "base_uri": "https://localhost:8080/",
          "height": 206
        },
        "id": "Qs2pR5qJYwLP",
        "outputId": "0742ce2b-0dd4-4d03-b06d-eb29d7d24971"
      },
      "outputs": [
        {
          "output_type": "execute_result",
          "data": {
            "text/plain": [
              "  customer_id  response\n",
              "0      CS1112         0\n",
              "1      CS1113         0\n",
              "2      CS1114         1\n",
              "3      CS1115         1\n",
              "4      CS1116         1"
            ],
            "text/html": [
              "\n",
              "  <div id=\"df-e21770a3-5899-4fbf-abde-4e74967447e9\" class=\"colab-df-container\">\n",
              "    <div>\n",
              "<style scoped>\n",
              "    .dataframe tbody tr th:only-of-type {\n",
              "        vertical-align: middle;\n",
              "    }\n",
              "\n",
              "    .dataframe tbody tr th {\n",
              "        vertical-align: top;\n",
              "    }\n",
              "\n",
              "    .dataframe thead th {\n",
              "        text-align: right;\n",
              "    }\n",
              "</style>\n",
              "<table border=\"1\" class=\"dataframe\">\n",
              "  <thead>\n",
              "    <tr style=\"text-align: right;\">\n",
              "      <th></th>\n",
              "      <th>customer_id</th>\n",
              "      <th>response</th>\n",
              "    </tr>\n",
              "  </thead>\n",
              "  <tbody>\n",
              "    <tr>\n",
              "      <th>0</th>\n",
              "      <td>CS1112</td>\n",
              "      <td>0</td>\n",
              "    </tr>\n",
              "    <tr>\n",
              "      <th>1</th>\n",
              "      <td>CS1113</td>\n",
              "      <td>0</td>\n",
              "    </tr>\n",
              "    <tr>\n",
              "      <th>2</th>\n",
              "      <td>CS1114</td>\n",
              "      <td>1</td>\n",
              "    </tr>\n",
              "    <tr>\n",
              "      <th>3</th>\n",
              "      <td>CS1115</td>\n",
              "      <td>1</td>\n",
              "    </tr>\n",
              "    <tr>\n",
              "      <th>4</th>\n",
              "      <td>CS1116</td>\n",
              "      <td>1</td>\n",
              "    </tr>\n",
              "  </tbody>\n",
              "</table>\n",
              "</div>\n",
              "    <div class=\"colab-df-buttons\">\n",
              "\n",
              "  <div class=\"colab-df-container\">\n",
              "    <button class=\"colab-df-convert\" onclick=\"convertToInteractive('df-e21770a3-5899-4fbf-abde-4e74967447e9')\"\n",
              "            title=\"Convert this dataframe to an interactive table.\"\n",
              "            style=\"display:none;\">\n",
              "\n",
              "  <svg xmlns=\"http://www.w3.org/2000/svg\" height=\"24px\" viewBox=\"0 -960 960 960\">\n",
              "    <path d=\"M120-120v-720h720v720H120Zm60-500h600v-160H180v160Zm220 220h160v-160H400v160Zm0 220h160v-160H400v160ZM180-400h160v-160H180v160Zm440 0h160v-160H620v160ZM180-180h160v-160H180v160Zm440 0h160v-160H620v160Z\"/>\n",
              "  </svg>\n",
              "    </button>\n",
              "\n",
              "  <style>\n",
              "    .colab-df-container {\n",
              "      display:flex;\n",
              "      gap: 12px;\n",
              "    }\n",
              "\n",
              "    .colab-df-convert {\n",
              "      background-color: #E8F0FE;\n",
              "      border: none;\n",
              "      border-radius: 50%;\n",
              "      cursor: pointer;\n",
              "      display: none;\n",
              "      fill: #1967D2;\n",
              "      height: 32px;\n",
              "      padding: 0 0 0 0;\n",
              "      width: 32px;\n",
              "    }\n",
              "\n",
              "    .colab-df-convert:hover {\n",
              "      background-color: #E2EBFA;\n",
              "      box-shadow: 0px 1px 2px rgba(60, 64, 67, 0.3), 0px 1px 3px 1px rgba(60, 64, 67, 0.15);\n",
              "      fill: #174EA6;\n",
              "    }\n",
              "\n",
              "    .colab-df-buttons div {\n",
              "      margin-bottom: 4px;\n",
              "    }\n",
              "\n",
              "    [theme=dark] .colab-df-convert {\n",
              "      background-color: #3B4455;\n",
              "      fill: #D2E3FC;\n",
              "    }\n",
              "\n",
              "    [theme=dark] .colab-df-convert:hover {\n",
              "      background-color: #434B5C;\n",
              "      box-shadow: 0px 1px 3px 1px rgba(0, 0, 0, 0.15);\n",
              "      filter: drop-shadow(0px 1px 2px rgba(0, 0, 0, 0.3));\n",
              "      fill: #FFFFFF;\n",
              "    }\n",
              "  </style>\n",
              "\n",
              "    <script>\n",
              "      const buttonEl =\n",
              "        document.querySelector('#df-e21770a3-5899-4fbf-abde-4e74967447e9 button.colab-df-convert');\n",
              "      buttonEl.style.display =\n",
              "        google.colab.kernel.accessAllowed ? 'block' : 'none';\n",
              "\n",
              "      async function convertToInteractive(key) {\n",
              "        const element = document.querySelector('#df-e21770a3-5899-4fbf-abde-4e74967447e9');\n",
              "        const dataTable =\n",
              "          await google.colab.kernel.invokeFunction('convertToInteractive',\n",
              "                                                    [key], {});\n",
              "        if (!dataTable) return;\n",
              "\n",
              "        const docLinkHtml = 'Like what you see? Visit the ' +\n",
              "          '<a target=\"_blank\" href=https://colab.research.google.com/notebooks/data_table.ipynb>data table notebook</a>'\n",
              "          + ' to learn more about interactive tables.';\n",
              "        element.innerHTML = '';\n",
              "        dataTable['output_type'] = 'display_data';\n",
              "        await google.colab.output.renderOutput(dataTable, element);\n",
              "        const docLink = document.createElement('div');\n",
              "        docLink.innerHTML = docLinkHtml;\n",
              "        element.appendChild(docLink);\n",
              "      }\n",
              "    </script>\n",
              "  </div>\n",
              "\n",
              "\n",
              "    <div id=\"df-a3ee658a-1d3c-4723-b0d5-7057a900741c\">\n",
              "      <button class=\"colab-df-quickchart\" onclick=\"quickchart('df-a3ee658a-1d3c-4723-b0d5-7057a900741c')\"\n",
              "                title=\"Suggest charts\"\n",
              "                style=\"display:none;\">\n",
              "\n",
              "<svg xmlns=\"http://www.w3.org/2000/svg\" height=\"24px\"viewBox=\"0 0 24 24\"\n",
              "     width=\"24px\">\n",
              "    <g>\n",
              "        <path d=\"M19 3H5c-1.1 0-2 .9-2 2v14c0 1.1.9 2 2 2h14c1.1 0 2-.9 2-2V5c0-1.1-.9-2-2-2zM9 17H7v-7h2v7zm4 0h-2V7h2v10zm4 0h-2v-4h2v4z\"/>\n",
              "    </g>\n",
              "</svg>\n",
              "      </button>\n",
              "\n",
              "<style>\n",
              "  .colab-df-quickchart {\n",
              "      --bg-color: #E8F0FE;\n",
              "      --fill-color: #1967D2;\n",
              "      --hover-bg-color: #E2EBFA;\n",
              "      --hover-fill-color: #174EA6;\n",
              "      --disabled-fill-color: #AAA;\n",
              "      --disabled-bg-color: #DDD;\n",
              "  }\n",
              "\n",
              "  [theme=dark] .colab-df-quickchart {\n",
              "      --bg-color: #3B4455;\n",
              "      --fill-color: #D2E3FC;\n",
              "      --hover-bg-color: #434B5C;\n",
              "      --hover-fill-color: #FFFFFF;\n",
              "      --disabled-bg-color: #3B4455;\n",
              "      --disabled-fill-color: #666;\n",
              "  }\n",
              "\n",
              "  .colab-df-quickchart {\n",
              "    background-color: var(--bg-color);\n",
              "    border: none;\n",
              "    border-radius: 50%;\n",
              "    cursor: pointer;\n",
              "    display: none;\n",
              "    fill: var(--fill-color);\n",
              "    height: 32px;\n",
              "    padding: 0;\n",
              "    width: 32px;\n",
              "  }\n",
              "\n",
              "  .colab-df-quickchart:hover {\n",
              "    background-color: var(--hover-bg-color);\n",
              "    box-shadow: 0 1px 2px rgba(60, 64, 67, 0.3), 0 1px 3px 1px rgba(60, 64, 67, 0.15);\n",
              "    fill: var(--button-hover-fill-color);\n",
              "  }\n",
              "\n",
              "  .colab-df-quickchart-complete:disabled,\n",
              "  .colab-df-quickchart-complete:disabled:hover {\n",
              "    background-color: var(--disabled-bg-color);\n",
              "    fill: var(--disabled-fill-color);\n",
              "    box-shadow: none;\n",
              "  }\n",
              "\n",
              "  .colab-df-spinner {\n",
              "    border: 2px solid var(--fill-color);\n",
              "    border-color: transparent;\n",
              "    border-bottom-color: var(--fill-color);\n",
              "    animation:\n",
              "      spin 1s steps(1) infinite;\n",
              "  }\n",
              "\n",
              "  @keyframes spin {\n",
              "    0% {\n",
              "      border-color: transparent;\n",
              "      border-bottom-color: var(--fill-color);\n",
              "      border-left-color: var(--fill-color);\n",
              "    }\n",
              "    20% {\n",
              "      border-color: transparent;\n",
              "      border-left-color: var(--fill-color);\n",
              "      border-top-color: var(--fill-color);\n",
              "    }\n",
              "    30% {\n",
              "      border-color: transparent;\n",
              "      border-left-color: var(--fill-color);\n",
              "      border-top-color: var(--fill-color);\n",
              "      border-right-color: var(--fill-color);\n",
              "    }\n",
              "    40% {\n",
              "      border-color: transparent;\n",
              "      border-right-color: var(--fill-color);\n",
              "      border-top-color: var(--fill-color);\n",
              "    }\n",
              "    60% {\n",
              "      border-color: transparent;\n",
              "      border-right-color: var(--fill-color);\n",
              "    }\n",
              "    80% {\n",
              "      border-color: transparent;\n",
              "      border-right-color: var(--fill-color);\n",
              "      border-bottom-color: var(--fill-color);\n",
              "    }\n",
              "    90% {\n",
              "      border-color: transparent;\n",
              "      border-bottom-color: var(--fill-color);\n",
              "    }\n",
              "  }\n",
              "</style>\n",
              "\n",
              "      <script>\n",
              "        async function quickchart(key) {\n",
              "          const quickchartButtonEl =\n",
              "            document.querySelector('#' + key + ' button');\n",
              "          quickchartButtonEl.disabled = true;  // To prevent multiple clicks.\n",
              "          quickchartButtonEl.classList.add('colab-df-spinner');\n",
              "          try {\n",
              "            const charts = await google.colab.kernel.invokeFunction(\n",
              "                'suggestCharts', [key], {});\n",
              "          } catch (error) {\n",
              "            console.error('Error during call to suggestCharts:', error);\n",
              "          }\n",
              "          quickchartButtonEl.classList.remove('colab-df-spinner');\n",
              "          quickchartButtonEl.classList.add('colab-df-quickchart-complete');\n",
              "        }\n",
              "        (() => {\n",
              "          let quickchartButtonEl =\n",
              "            document.querySelector('#df-a3ee658a-1d3c-4723-b0d5-7057a900741c button');\n",
              "          quickchartButtonEl.style.display =\n",
              "            google.colab.kernel.accessAllowed ? 'block' : 'none';\n",
              "        })();\n",
              "      </script>\n",
              "    </div>\n",
              "\n",
              "    </div>\n",
              "  </div>\n"
            ],
            "application/vnd.google.colaboratory.intrinsic+json": {
              "type": "dataframe",
              "variable_name": "customers",
              "summary": "{\n  \"name\": \"customers\",\n  \"rows\": 6884,\n  \"fields\": [\n    {\n      \"column\": \"customer_id\",\n      \"properties\": {\n        \"dtype\": \"string\",\n        \"num_unique_values\": 6884,\n        \"samples\": [\n          \"CS8153\",\n          \"CS4630\",\n          \"CS1795\"\n        ],\n        \"semantic_type\": \"\",\n        \"description\": \"\"\n      }\n    },\n    {\n      \"column\": \"response\",\n      \"properties\": {\n        \"dtype\": \"number\",\n        \"std\": 0,\n        \"min\": 0,\n        \"max\": 1,\n        \"num_unique_values\": 2,\n        \"samples\": [\n          1,\n          0\n        ],\n        \"semantic_type\": \"\",\n        \"description\": \"\"\n      }\n    }\n  ]\n}"
            }
          },
          "metadata": {},
          "execution_count": 65
        }
      ],
      "source": [
        "customers.head()"
      ]
    },
    {
      "cell_type": "code",
      "execution_count": 66,
      "metadata": {
        "ExecuteTime": {
          "end_time": "2019-09-28T19:10:34.393258Z",
          "start_time": "2019-09-28T19:10:34.345560Z"
        },
        "colab": {
          "base_uri": "https://localhost:8080/",
          "height": 206
        },
        "id": "qnegUtXgYwLP",
        "outputId": "c3bb000d-893b-4695-8a02-d2daaf514ec2"
      },
      "outputs": [
        {
          "output_type": "execute_result",
          "data": {
            "text/plain": [
              "  customer_id trans_date  tran_amount\n",
              "0      CS5295  11-Feb-13           35\n",
              "1      CS4768  15-Mar-15           39\n",
              "2      CS2122  26-Feb-13           52\n",
              "3      CS1217  16-Nov-11           99\n",
              "4      CS1850  20-Nov-13           78"
            ],
            "text/html": [
              "\n",
              "  <div id=\"df-103326de-54bc-4243-97f9-b3a5b44acc35\" class=\"colab-df-container\">\n",
              "    <div>\n",
              "<style scoped>\n",
              "    .dataframe tbody tr th:only-of-type {\n",
              "        vertical-align: middle;\n",
              "    }\n",
              "\n",
              "    .dataframe tbody tr th {\n",
              "        vertical-align: top;\n",
              "    }\n",
              "\n",
              "    .dataframe thead th {\n",
              "        text-align: right;\n",
              "    }\n",
              "</style>\n",
              "<table border=\"1\" class=\"dataframe\">\n",
              "  <thead>\n",
              "    <tr style=\"text-align: right;\">\n",
              "      <th></th>\n",
              "      <th>customer_id</th>\n",
              "      <th>trans_date</th>\n",
              "      <th>tran_amount</th>\n",
              "    </tr>\n",
              "  </thead>\n",
              "  <tbody>\n",
              "    <tr>\n",
              "      <th>0</th>\n",
              "      <td>CS5295</td>\n",
              "      <td>11-Feb-13</td>\n",
              "      <td>35</td>\n",
              "    </tr>\n",
              "    <tr>\n",
              "      <th>1</th>\n",
              "      <td>CS4768</td>\n",
              "      <td>15-Mar-15</td>\n",
              "      <td>39</td>\n",
              "    </tr>\n",
              "    <tr>\n",
              "      <th>2</th>\n",
              "      <td>CS2122</td>\n",
              "      <td>26-Feb-13</td>\n",
              "      <td>52</td>\n",
              "    </tr>\n",
              "    <tr>\n",
              "      <th>3</th>\n",
              "      <td>CS1217</td>\n",
              "      <td>16-Nov-11</td>\n",
              "      <td>99</td>\n",
              "    </tr>\n",
              "    <tr>\n",
              "      <th>4</th>\n",
              "      <td>CS1850</td>\n",
              "      <td>20-Nov-13</td>\n",
              "      <td>78</td>\n",
              "    </tr>\n",
              "  </tbody>\n",
              "</table>\n",
              "</div>\n",
              "    <div class=\"colab-df-buttons\">\n",
              "\n",
              "  <div class=\"colab-df-container\">\n",
              "    <button class=\"colab-df-convert\" onclick=\"convertToInteractive('df-103326de-54bc-4243-97f9-b3a5b44acc35')\"\n",
              "            title=\"Convert this dataframe to an interactive table.\"\n",
              "            style=\"display:none;\">\n",
              "\n",
              "  <svg xmlns=\"http://www.w3.org/2000/svg\" height=\"24px\" viewBox=\"0 -960 960 960\">\n",
              "    <path d=\"M120-120v-720h720v720H120Zm60-500h600v-160H180v160Zm220 220h160v-160H400v160Zm0 220h160v-160H400v160ZM180-400h160v-160H180v160Zm440 0h160v-160H620v160ZM180-180h160v-160H180v160Zm440 0h160v-160H620v160Z\"/>\n",
              "  </svg>\n",
              "    </button>\n",
              "\n",
              "  <style>\n",
              "    .colab-df-container {\n",
              "      display:flex;\n",
              "      gap: 12px;\n",
              "    }\n",
              "\n",
              "    .colab-df-convert {\n",
              "      background-color: #E8F0FE;\n",
              "      border: none;\n",
              "      border-radius: 50%;\n",
              "      cursor: pointer;\n",
              "      display: none;\n",
              "      fill: #1967D2;\n",
              "      height: 32px;\n",
              "      padding: 0 0 0 0;\n",
              "      width: 32px;\n",
              "    }\n",
              "\n",
              "    .colab-df-convert:hover {\n",
              "      background-color: #E2EBFA;\n",
              "      box-shadow: 0px 1px 2px rgba(60, 64, 67, 0.3), 0px 1px 3px 1px rgba(60, 64, 67, 0.15);\n",
              "      fill: #174EA6;\n",
              "    }\n",
              "\n",
              "    .colab-df-buttons div {\n",
              "      margin-bottom: 4px;\n",
              "    }\n",
              "\n",
              "    [theme=dark] .colab-df-convert {\n",
              "      background-color: #3B4455;\n",
              "      fill: #D2E3FC;\n",
              "    }\n",
              "\n",
              "    [theme=dark] .colab-df-convert:hover {\n",
              "      background-color: #434B5C;\n",
              "      box-shadow: 0px 1px 3px 1px rgba(0, 0, 0, 0.15);\n",
              "      filter: drop-shadow(0px 1px 2px rgba(0, 0, 0, 0.3));\n",
              "      fill: #FFFFFF;\n",
              "    }\n",
              "  </style>\n",
              "\n",
              "    <script>\n",
              "      const buttonEl =\n",
              "        document.querySelector('#df-103326de-54bc-4243-97f9-b3a5b44acc35 button.colab-df-convert');\n",
              "      buttonEl.style.display =\n",
              "        google.colab.kernel.accessAllowed ? 'block' : 'none';\n",
              "\n",
              "      async function convertToInteractive(key) {\n",
              "        const element = document.querySelector('#df-103326de-54bc-4243-97f9-b3a5b44acc35');\n",
              "        const dataTable =\n",
              "          await google.colab.kernel.invokeFunction('convertToInteractive',\n",
              "                                                    [key], {});\n",
              "        if (!dataTable) return;\n",
              "\n",
              "        const docLinkHtml = 'Like what you see? Visit the ' +\n",
              "          '<a target=\"_blank\" href=https://colab.research.google.com/notebooks/data_table.ipynb>data table notebook</a>'\n",
              "          + ' to learn more about interactive tables.';\n",
              "        element.innerHTML = '';\n",
              "        dataTable['output_type'] = 'display_data';\n",
              "        await google.colab.output.renderOutput(dataTable, element);\n",
              "        const docLink = document.createElement('div');\n",
              "        docLink.innerHTML = docLinkHtml;\n",
              "        element.appendChild(docLink);\n",
              "      }\n",
              "    </script>\n",
              "  </div>\n",
              "\n",
              "\n",
              "    <div id=\"df-385c209b-51af-483a-851f-dad308be8800\">\n",
              "      <button class=\"colab-df-quickchart\" onclick=\"quickchart('df-385c209b-51af-483a-851f-dad308be8800')\"\n",
              "                title=\"Suggest charts\"\n",
              "                style=\"display:none;\">\n",
              "\n",
              "<svg xmlns=\"http://www.w3.org/2000/svg\" height=\"24px\"viewBox=\"0 0 24 24\"\n",
              "     width=\"24px\">\n",
              "    <g>\n",
              "        <path d=\"M19 3H5c-1.1 0-2 .9-2 2v14c0 1.1.9 2 2 2h14c1.1 0 2-.9 2-2V5c0-1.1-.9-2-2-2zM9 17H7v-7h2v7zm4 0h-2V7h2v10zm4 0h-2v-4h2v4z\"/>\n",
              "    </g>\n",
              "</svg>\n",
              "      </button>\n",
              "\n",
              "<style>\n",
              "  .colab-df-quickchart {\n",
              "      --bg-color: #E8F0FE;\n",
              "      --fill-color: #1967D2;\n",
              "      --hover-bg-color: #E2EBFA;\n",
              "      --hover-fill-color: #174EA6;\n",
              "      --disabled-fill-color: #AAA;\n",
              "      --disabled-bg-color: #DDD;\n",
              "  }\n",
              "\n",
              "  [theme=dark] .colab-df-quickchart {\n",
              "      --bg-color: #3B4455;\n",
              "      --fill-color: #D2E3FC;\n",
              "      --hover-bg-color: #434B5C;\n",
              "      --hover-fill-color: #FFFFFF;\n",
              "      --disabled-bg-color: #3B4455;\n",
              "      --disabled-fill-color: #666;\n",
              "  }\n",
              "\n",
              "  .colab-df-quickchart {\n",
              "    background-color: var(--bg-color);\n",
              "    border: none;\n",
              "    border-radius: 50%;\n",
              "    cursor: pointer;\n",
              "    display: none;\n",
              "    fill: var(--fill-color);\n",
              "    height: 32px;\n",
              "    padding: 0;\n",
              "    width: 32px;\n",
              "  }\n",
              "\n",
              "  .colab-df-quickchart:hover {\n",
              "    background-color: var(--hover-bg-color);\n",
              "    box-shadow: 0 1px 2px rgba(60, 64, 67, 0.3), 0 1px 3px 1px rgba(60, 64, 67, 0.15);\n",
              "    fill: var(--button-hover-fill-color);\n",
              "  }\n",
              "\n",
              "  .colab-df-quickchart-complete:disabled,\n",
              "  .colab-df-quickchart-complete:disabled:hover {\n",
              "    background-color: var(--disabled-bg-color);\n",
              "    fill: var(--disabled-fill-color);\n",
              "    box-shadow: none;\n",
              "  }\n",
              "\n",
              "  .colab-df-spinner {\n",
              "    border: 2px solid var(--fill-color);\n",
              "    border-color: transparent;\n",
              "    border-bottom-color: var(--fill-color);\n",
              "    animation:\n",
              "      spin 1s steps(1) infinite;\n",
              "  }\n",
              "\n",
              "  @keyframes spin {\n",
              "    0% {\n",
              "      border-color: transparent;\n",
              "      border-bottom-color: var(--fill-color);\n",
              "      border-left-color: var(--fill-color);\n",
              "    }\n",
              "    20% {\n",
              "      border-color: transparent;\n",
              "      border-left-color: var(--fill-color);\n",
              "      border-top-color: var(--fill-color);\n",
              "    }\n",
              "    30% {\n",
              "      border-color: transparent;\n",
              "      border-left-color: var(--fill-color);\n",
              "      border-top-color: var(--fill-color);\n",
              "      border-right-color: var(--fill-color);\n",
              "    }\n",
              "    40% {\n",
              "      border-color: transparent;\n",
              "      border-right-color: var(--fill-color);\n",
              "      border-top-color: var(--fill-color);\n",
              "    }\n",
              "    60% {\n",
              "      border-color: transparent;\n",
              "      border-right-color: var(--fill-color);\n",
              "    }\n",
              "    80% {\n",
              "      border-color: transparent;\n",
              "      border-right-color: var(--fill-color);\n",
              "      border-bottom-color: var(--fill-color);\n",
              "    }\n",
              "    90% {\n",
              "      border-color: transparent;\n",
              "      border-bottom-color: var(--fill-color);\n",
              "    }\n",
              "  }\n",
              "</style>\n",
              "\n",
              "      <script>\n",
              "        async function quickchart(key) {\n",
              "          const quickchartButtonEl =\n",
              "            document.querySelector('#' + key + ' button');\n",
              "          quickchartButtonEl.disabled = true;  // To prevent multiple clicks.\n",
              "          quickchartButtonEl.classList.add('colab-df-spinner');\n",
              "          try {\n",
              "            const charts = await google.colab.kernel.invokeFunction(\n",
              "                'suggestCharts', [key], {});\n",
              "          } catch (error) {\n",
              "            console.error('Error during call to suggestCharts:', error);\n",
              "          }\n",
              "          quickchartButtonEl.classList.remove('colab-df-spinner');\n",
              "          quickchartButtonEl.classList.add('colab-df-quickchart-complete');\n",
              "        }\n",
              "        (() => {\n",
              "          let quickchartButtonEl =\n",
              "            document.querySelector('#df-385c209b-51af-483a-851f-dad308be8800 button');\n",
              "          quickchartButtonEl.style.display =\n",
              "            google.colab.kernel.accessAllowed ? 'block' : 'none';\n",
              "        })();\n",
              "      </script>\n",
              "    </div>\n",
              "\n",
              "    </div>\n",
              "  </div>\n"
            ],
            "application/vnd.google.colaboratory.intrinsic+json": {
              "type": "dataframe",
              "variable_name": "transactions"
            }
          },
          "metadata": {},
          "execution_count": 66
        }
      ],
      "source": [
        "transactions.head()"
      ]
    },
    {
      "cell_type": "code",
      "execution_count": 68,
      "metadata": {
        "ExecuteTime": {
          "end_time": "2019-09-28T19:10:35.873166Z",
          "start_time": "2019-09-28T19:10:34.443594Z"
        },
        "id": "4xPDl03cYwLQ"
      },
      "outputs": [],
      "source": [
        "import datetime as datetime\n",
        "\n",
        "transactions.trans_date = transactions.trans_date.apply(\n",
        "    lambda x: datetime.datetime.strptime(x, '%d-%b-%y'))"
      ]
    },
    {
      "cell_type": "markdown",
      "metadata": {
        "id": "7MVlz8gcYwLQ"
      },
      "source": [
        "Посмотрим на распределение целевой переменной:"
      ]
    },
    {
      "cell_type": "code",
      "execution_count": null,
      "metadata": {
        "ExecuteTime": {
          "end_time": "2019-09-28T19:10:35.891923Z",
          "start_time": "2019-09-28T19:10:35.875688Z"
        },
        "id": "7gtGWzz9YwLQ",
        "outputId": "3f783e65-cdfa-4518-88c4-2cc1f52e039b"
      },
      "outputs": [
        {
          "data": {
            "text/plain": [
              "0.09398605461940732"
            ]
          },
          "execution_count": 57,
          "metadata": {},
          "output_type": "execute_result"
        }
      ],
      "source": [
        "customers.response.mean()"
      ]
    },
    {
      "cell_type": "markdown",
      "metadata": {
        "id": "ZkpyxB-gYwLQ"
      },
      "source": [
        "Получаем примерно 1 к 9 положительных примеров. Если такие данные разбивать на части для кросс валидации, то может получиться так, что в одну из частей попадёт слишком мало положительных примеров, а в другую — наоборот. На случай такого неравномерного баланса классов есть StratifiedKFold, который бьёт данные так, чтобы баланс классов во всех частях был одинаковым."
      ]
    },
    {
      "cell_type": "code",
      "execution_count": 69,
      "metadata": {
        "ExecuteTime": {
          "end_time": "2019-09-28T19:10:35.909700Z",
          "start_time": "2019-09-28T19:10:35.898951Z"
        },
        "id": "A5y_umZmYwLQ"
      },
      "outputs": [],
      "source": [
        "from sklearn.model_selection import StratifiedKFold"
      ]
    },
    {
      "cell_type": "markdown",
      "metadata": {
        "id": "8XDlQQ_cYwLQ"
      },
      "source": [
        "Когда строк на каждый объект много, можно считать различные статистики. Например, средние, минимальные и максимальные суммы, потраченные клиентом, количество транзакий, ..."
      ]
    },
    {
      "cell_type": "code",
      "execution_count": 70,
      "metadata": {
        "ExecuteTime": {
          "end_time": "2019-09-28T19:10:36.003307Z",
          "start_time": "2019-09-28T19:10:35.914780Z"
        },
        "colab": {
          "base_uri": "https://localhost:8080/",
          "height": 206
        },
        "id": "cIae5i0QYwLQ",
        "outputId": "e09bcc10-4786-4070-cecf-1490343a3fe4"
      },
      "outputs": [
        {
          "output_type": "execute_result",
          "data": {
            "text/plain": [
              "  customer_id  response       mean        std  count  min  max\n",
              "0      CS1112         0  67.466667  19.766012     15   36  105\n",
              "1      CS1113         0  74.500000  21.254102     20   36   98\n",
              "2      CS1114         1  75.368421  21.341692     19   37  105\n",
              "3      CS1115         1  75.409091  18.151896     22   41  104\n",
              "4      CS1116         1  65.923077  22.940000     13   40  105"
            ],
            "text/html": [
              "\n",
              "  <div id=\"df-7b79584f-a11d-41e4-9746-80c3aa8ba6eb\" class=\"colab-df-container\">\n",
              "    <div>\n",
              "<style scoped>\n",
              "    .dataframe tbody tr th:only-of-type {\n",
              "        vertical-align: middle;\n",
              "    }\n",
              "\n",
              "    .dataframe tbody tr th {\n",
              "        vertical-align: top;\n",
              "    }\n",
              "\n",
              "    .dataframe thead th {\n",
              "        text-align: right;\n",
              "    }\n",
              "</style>\n",
              "<table border=\"1\" class=\"dataframe\">\n",
              "  <thead>\n",
              "    <tr style=\"text-align: right;\">\n",
              "      <th></th>\n",
              "      <th>customer_id</th>\n",
              "      <th>response</th>\n",
              "      <th>mean</th>\n",
              "      <th>std</th>\n",
              "      <th>count</th>\n",
              "      <th>min</th>\n",
              "      <th>max</th>\n",
              "    </tr>\n",
              "  </thead>\n",
              "  <tbody>\n",
              "    <tr>\n",
              "      <th>0</th>\n",
              "      <td>CS1112</td>\n",
              "      <td>0</td>\n",
              "      <td>67.466667</td>\n",
              "      <td>19.766012</td>\n",
              "      <td>15</td>\n",
              "      <td>36</td>\n",
              "      <td>105</td>\n",
              "    </tr>\n",
              "    <tr>\n",
              "      <th>1</th>\n",
              "      <td>CS1113</td>\n",
              "      <td>0</td>\n",
              "      <td>74.500000</td>\n",
              "      <td>21.254102</td>\n",
              "      <td>20</td>\n",
              "      <td>36</td>\n",
              "      <td>98</td>\n",
              "    </tr>\n",
              "    <tr>\n",
              "      <th>2</th>\n",
              "      <td>CS1114</td>\n",
              "      <td>1</td>\n",
              "      <td>75.368421</td>\n",
              "      <td>21.341692</td>\n",
              "      <td>19</td>\n",
              "      <td>37</td>\n",
              "      <td>105</td>\n",
              "    </tr>\n",
              "    <tr>\n",
              "      <th>3</th>\n",
              "      <td>CS1115</td>\n",
              "      <td>1</td>\n",
              "      <td>75.409091</td>\n",
              "      <td>18.151896</td>\n",
              "      <td>22</td>\n",
              "      <td>41</td>\n",
              "      <td>104</td>\n",
              "    </tr>\n",
              "    <tr>\n",
              "      <th>4</th>\n",
              "      <td>CS1116</td>\n",
              "      <td>1</td>\n",
              "      <td>65.923077</td>\n",
              "      <td>22.940000</td>\n",
              "      <td>13</td>\n",
              "      <td>40</td>\n",
              "      <td>105</td>\n",
              "    </tr>\n",
              "  </tbody>\n",
              "</table>\n",
              "</div>\n",
              "    <div class=\"colab-df-buttons\">\n",
              "\n",
              "  <div class=\"colab-df-container\">\n",
              "    <button class=\"colab-df-convert\" onclick=\"convertToInteractive('df-7b79584f-a11d-41e4-9746-80c3aa8ba6eb')\"\n",
              "            title=\"Convert this dataframe to an interactive table.\"\n",
              "            style=\"display:none;\">\n",
              "\n",
              "  <svg xmlns=\"http://www.w3.org/2000/svg\" height=\"24px\" viewBox=\"0 -960 960 960\">\n",
              "    <path d=\"M120-120v-720h720v720H120Zm60-500h600v-160H180v160Zm220 220h160v-160H400v160Zm0 220h160v-160H400v160ZM180-400h160v-160H180v160Zm440 0h160v-160H620v160ZM180-180h160v-160H180v160Zm440 0h160v-160H620v160Z\"/>\n",
              "  </svg>\n",
              "    </button>\n",
              "\n",
              "  <style>\n",
              "    .colab-df-container {\n",
              "      display:flex;\n",
              "      gap: 12px;\n",
              "    }\n",
              "\n",
              "    .colab-df-convert {\n",
              "      background-color: #E8F0FE;\n",
              "      border: none;\n",
              "      border-radius: 50%;\n",
              "      cursor: pointer;\n",
              "      display: none;\n",
              "      fill: #1967D2;\n",
              "      height: 32px;\n",
              "      padding: 0 0 0 0;\n",
              "      width: 32px;\n",
              "    }\n",
              "\n",
              "    .colab-df-convert:hover {\n",
              "      background-color: #E2EBFA;\n",
              "      box-shadow: 0px 1px 2px rgba(60, 64, 67, 0.3), 0px 1px 3px 1px rgba(60, 64, 67, 0.15);\n",
              "      fill: #174EA6;\n",
              "    }\n",
              "\n",
              "    .colab-df-buttons div {\n",
              "      margin-bottom: 4px;\n",
              "    }\n",
              "\n",
              "    [theme=dark] .colab-df-convert {\n",
              "      background-color: #3B4455;\n",
              "      fill: #D2E3FC;\n",
              "    }\n",
              "\n",
              "    [theme=dark] .colab-df-convert:hover {\n",
              "      background-color: #434B5C;\n",
              "      box-shadow: 0px 1px 3px 1px rgba(0, 0, 0, 0.15);\n",
              "      filter: drop-shadow(0px 1px 2px rgba(0, 0, 0, 0.3));\n",
              "      fill: #FFFFFF;\n",
              "    }\n",
              "  </style>\n",
              "\n",
              "    <script>\n",
              "      const buttonEl =\n",
              "        document.querySelector('#df-7b79584f-a11d-41e4-9746-80c3aa8ba6eb button.colab-df-convert');\n",
              "      buttonEl.style.display =\n",
              "        google.colab.kernel.accessAllowed ? 'block' : 'none';\n",
              "\n",
              "      async function convertToInteractive(key) {\n",
              "        const element = document.querySelector('#df-7b79584f-a11d-41e4-9746-80c3aa8ba6eb');\n",
              "        const dataTable =\n",
              "          await google.colab.kernel.invokeFunction('convertToInteractive',\n",
              "                                                    [key], {});\n",
              "        if (!dataTable) return;\n",
              "\n",
              "        const docLinkHtml = 'Like what you see? Visit the ' +\n",
              "          '<a target=\"_blank\" href=https://colab.research.google.com/notebooks/data_table.ipynb>data table notebook</a>'\n",
              "          + ' to learn more about interactive tables.';\n",
              "        element.innerHTML = '';\n",
              "        dataTable['output_type'] = 'display_data';\n",
              "        await google.colab.output.renderOutput(dataTable, element);\n",
              "        const docLink = document.createElement('div');\n",
              "        docLink.innerHTML = docLinkHtml;\n",
              "        element.appendChild(docLink);\n",
              "      }\n",
              "    </script>\n",
              "  </div>\n",
              "\n",
              "\n",
              "    <div id=\"df-1cc00478-859c-4cf3-bd49-8859968b467f\">\n",
              "      <button class=\"colab-df-quickchart\" onclick=\"quickchart('df-1cc00478-859c-4cf3-bd49-8859968b467f')\"\n",
              "                title=\"Suggest charts\"\n",
              "                style=\"display:none;\">\n",
              "\n",
              "<svg xmlns=\"http://www.w3.org/2000/svg\" height=\"24px\"viewBox=\"0 0 24 24\"\n",
              "     width=\"24px\">\n",
              "    <g>\n",
              "        <path d=\"M19 3H5c-1.1 0-2 .9-2 2v14c0 1.1.9 2 2 2h14c1.1 0 2-.9 2-2V5c0-1.1-.9-2-2-2zM9 17H7v-7h2v7zm4 0h-2V7h2v10zm4 0h-2v-4h2v4z\"/>\n",
              "    </g>\n",
              "</svg>\n",
              "      </button>\n",
              "\n",
              "<style>\n",
              "  .colab-df-quickchart {\n",
              "      --bg-color: #E8F0FE;\n",
              "      --fill-color: #1967D2;\n",
              "      --hover-bg-color: #E2EBFA;\n",
              "      --hover-fill-color: #174EA6;\n",
              "      --disabled-fill-color: #AAA;\n",
              "      --disabled-bg-color: #DDD;\n",
              "  }\n",
              "\n",
              "  [theme=dark] .colab-df-quickchart {\n",
              "      --bg-color: #3B4455;\n",
              "      --fill-color: #D2E3FC;\n",
              "      --hover-bg-color: #434B5C;\n",
              "      --hover-fill-color: #FFFFFF;\n",
              "      --disabled-bg-color: #3B4455;\n",
              "      --disabled-fill-color: #666;\n",
              "  }\n",
              "\n",
              "  .colab-df-quickchart {\n",
              "    background-color: var(--bg-color);\n",
              "    border: none;\n",
              "    border-radius: 50%;\n",
              "    cursor: pointer;\n",
              "    display: none;\n",
              "    fill: var(--fill-color);\n",
              "    height: 32px;\n",
              "    padding: 0;\n",
              "    width: 32px;\n",
              "  }\n",
              "\n",
              "  .colab-df-quickchart:hover {\n",
              "    background-color: var(--hover-bg-color);\n",
              "    box-shadow: 0 1px 2px rgba(60, 64, 67, 0.3), 0 1px 3px 1px rgba(60, 64, 67, 0.15);\n",
              "    fill: var(--button-hover-fill-color);\n",
              "  }\n",
              "\n",
              "  .colab-df-quickchart-complete:disabled,\n",
              "  .colab-df-quickchart-complete:disabled:hover {\n",
              "    background-color: var(--disabled-bg-color);\n",
              "    fill: var(--disabled-fill-color);\n",
              "    box-shadow: none;\n",
              "  }\n",
              "\n",
              "  .colab-df-spinner {\n",
              "    border: 2px solid var(--fill-color);\n",
              "    border-color: transparent;\n",
              "    border-bottom-color: var(--fill-color);\n",
              "    animation:\n",
              "      spin 1s steps(1) infinite;\n",
              "  }\n",
              "\n",
              "  @keyframes spin {\n",
              "    0% {\n",
              "      border-color: transparent;\n",
              "      border-bottom-color: var(--fill-color);\n",
              "      border-left-color: var(--fill-color);\n",
              "    }\n",
              "    20% {\n",
              "      border-color: transparent;\n",
              "      border-left-color: var(--fill-color);\n",
              "      border-top-color: var(--fill-color);\n",
              "    }\n",
              "    30% {\n",
              "      border-color: transparent;\n",
              "      border-left-color: var(--fill-color);\n",
              "      border-top-color: var(--fill-color);\n",
              "      border-right-color: var(--fill-color);\n",
              "    }\n",
              "    40% {\n",
              "      border-color: transparent;\n",
              "      border-right-color: var(--fill-color);\n",
              "      border-top-color: var(--fill-color);\n",
              "    }\n",
              "    60% {\n",
              "      border-color: transparent;\n",
              "      border-right-color: var(--fill-color);\n",
              "    }\n",
              "    80% {\n",
              "      border-color: transparent;\n",
              "      border-right-color: var(--fill-color);\n",
              "      border-bottom-color: var(--fill-color);\n",
              "    }\n",
              "    90% {\n",
              "      border-color: transparent;\n",
              "      border-bottom-color: var(--fill-color);\n",
              "    }\n",
              "  }\n",
              "</style>\n",
              "\n",
              "      <script>\n",
              "        async function quickchart(key) {\n",
              "          const quickchartButtonEl =\n",
              "            document.querySelector('#' + key + ' button');\n",
              "          quickchartButtonEl.disabled = true;  // To prevent multiple clicks.\n",
              "          quickchartButtonEl.classList.add('colab-df-spinner');\n",
              "          try {\n",
              "            const charts = await google.colab.kernel.invokeFunction(\n",
              "                'suggestCharts', [key], {});\n",
              "          } catch (error) {\n",
              "            console.error('Error during call to suggestCharts:', error);\n",
              "          }\n",
              "          quickchartButtonEl.classList.remove('colab-df-spinner');\n",
              "          quickchartButtonEl.classList.add('colab-df-quickchart-complete');\n",
              "        }\n",
              "        (() => {\n",
              "          let quickchartButtonEl =\n",
              "            document.querySelector('#df-1cc00478-859c-4cf3-bd49-8859968b467f button');\n",
              "          quickchartButtonEl.style.display =\n",
              "            google.colab.kernel.accessAllowed ? 'block' : 'none';\n",
              "        })();\n",
              "      </script>\n",
              "    </div>\n",
              "\n",
              "    </div>\n",
              "  </div>\n"
            ],
            "application/vnd.google.colaboratory.intrinsic+json": {
              "type": "dataframe",
              "variable_name": "data",
              "summary": "{\n  \"name\": \"data\",\n  \"rows\": 6884,\n  \"fields\": [\n    {\n      \"column\": \"customer_id\",\n      \"properties\": {\n        \"dtype\": \"string\",\n        \"num_unique_values\": 6884,\n        \"samples\": [\n          \"CS8153\",\n          \"CS4630\",\n          \"CS1795\"\n        ],\n        \"semantic_type\": \"\",\n        \"description\": \"\"\n      }\n    },\n    {\n      \"column\": \"response\",\n      \"properties\": {\n        \"dtype\": \"number\",\n        \"std\": 0,\n        \"min\": 0,\n        \"max\": 1,\n        \"num_unique_values\": 2,\n        \"samples\": [\n          1,\n          0\n        ],\n        \"semantic_type\": \"\",\n        \"description\": \"\"\n      }\n    },\n    {\n      \"column\": \"mean\",\n      \"properties\": {\n        \"dtype\": \"number\",\n        \"std\": 12.427715991731732,\n        \"min\": 26.7,\n        \"max\": 87.4,\n        \"num_unique_values\": 3898,\n        \"samples\": [\n          52.63636363636363,\n          67.78571428571429\n        ],\n        \"semantic_type\": \"\",\n        \"description\": \"\"\n      }\n    },\n    {\n      \"column\": \"std\",\n      \"properties\": {\n        \"dtype\": \"number\",\n        \"std\": 2.468657513719588,\n        \"min\": 7.3598007219398704,\n        \"max\": 30.554595944527453,\n        \"num_unique_values\": 6823,\n        \"samples\": [\n          17.994280136950707,\n          24.113644192807314\n        ],\n        \"semantic_type\": \"\",\n        \"description\": \"\"\n      }\n    },\n    {\n      \"column\": \"count\",\n      \"properties\": {\n        \"dtype\": \"number\",\n        \"std\": 5,\n        \"min\": 4,\n        \"max\": 39,\n        \"num_unique_values\": 35,\n        \"samples\": [\n          6,\n          27\n        ],\n        \"semantic_type\": \"\",\n        \"description\": \"\"\n      }\n    },\n    {\n      \"column\": \"min\",\n      \"properties\": {\n        \"dtype\": \"number\",\n        \"std\": 11,\n        \"min\": 10,\n        \"max\": 66,\n        \"num_unique_values\": 55,\n        \"samples\": [\n          10,\n          38\n        ],\n        \"semantic_type\": \"\",\n        \"description\": \"\"\n      }\n    },\n    {\n      \"column\": \"max\",\n      \"properties\": {\n        \"dtype\": \"number\",\n        \"std\": 12,\n        \"min\": 45,\n        \"max\": 105,\n        \"num_unique_values\": 58,\n        \"samples\": [\n          105,\n          102\n        ],\n        \"semantic_type\": \"\",\n        \"description\": \"\"\n      }\n    }\n  ]\n}"
            }
          },
          "metadata": {},
          "execution_count": 70
        }
      ],
      "source": [
        "agg_transactions = transactions.groupby('customer_id').tran_amount.agg(\n",
        "    ['mean', 'std', 'count', 'min', 'max']).reset_index()\n",
        "\n",
        "data = pd.merge(customers, agg_transactions, how='left', on='customer_id')\n",
        "\n",
        "data.head()"
      ]
    },
    {
      "cell_type": "code",
      "execution_count": 71,
      "metadata": {
        "ExecuteTime": {
          "end_time": "2019-09-28T19:10:36.210653Z",
          "start_time": "2019-09-28T19:10:36.008305Z"
        },
        "colab": {
          "base_uri": "https://localhost:8080/"
        },
        "id": "6PlaSGriYwLQ",
        "outputId": "0c7d10b5-5f29-4cfc-cc89-97b560616af3"
      },
      "outputs": [
        {
          "output_type": "execute_result",
          "data": {
            "text/plain": [
              "np.float64(0.7133553588190397)"
            ]
          },
          "metadata": {},
          "execution_count": 71
        }
      ],
      "source": [
        "from sklearn.linear_model import LogisticRegression\n",
        "\n",
        "np.mean(cross_val_score(\n",
        "    LogisticRegression(solver='newton-cg'),\n",
        "    X=data.drop(['customer_id', 'response'], axis=1),\n",
        "    y=data.response,\n",
        "    cv=StratifiedKFold(n_splits=3),\n",
        "    scoring='roc_auc'))"
      ]
    },
    {
      "cell_type": "markdown",
      "metadata": {
        "id": "O7L4PXRsYwLR"
      },
      "source": [
        "Но каждая транзакция снабжена датой! Можно посчитать статистики только по свежим транзакциям. Добавим их."
      ]
    },
    {
      "cell_type": "code",
      "execution_count": 72,
      "metadata": {
        "ExecuteTime": {
          "end_time": "2019-09-28T19:10:36.235061Z",
          "start_time": "2019-09-28T19:10:36.218040Z"
        },
        "colab": {
          "base_uri": "https://localhost:8080/"
        },
        "id": "Bd-kt4yGYwLR",
        "outputId": "e5431efe-751e-4208-f4c4-d9f2972ac00b"
      },
      "outputs": [
        {
          "output_type": "execute_result",
          "data": {
            "text/plain": [
              "(Timestamp('2011-05-16 00:00:00'), Timestamp('2015-03-16 00:00:00'))"
            ]
          },
          "metadata": {},
          "execution_count": 72
        }
      ],
      "source": [
        "transactions.trans_date.min(), transactions.trans_date.max()"
      ]
    },
    {
      "cell_type": "code",
      "execution_count": 73,
      "metadata": {
        "ExecuteTime": {
          "end_time": "2019-09-28T19:10:36.858305Z",
          "start_time": "2019-09-28T19:10:36.240648Z"
        },
        "id": "NG_lXUcyYwLR"
      },
      "outputs": [],
      "source": [
        "agg_transactions = transactions.loc[transactions.trans_date.apply(\n",
        "    lambda x: x.year == 2014)].groupby('customer_id').tran_amount.agg(\n",
        "    ['mean', 'std', 'count', 'min', 'max']).reset_index()"
      ]
    },
    {
      "cell_type": "code",
      "execution_count": 74,
      "metadata": {
        "ExecuteTime": {
          "end_time": "2019-09-28T19:10:36.886707Z",
          "start_time": "2019-09-28T19:10:36.860734Z"
        },
        "id": "DNZOu_IfYwLR"
      },
      "outputs": [],
      "source": [
        "data = pd.merge(data, agg_transactions, how='left', on='customer_id', suffixes=('', '_2014'))\n",
        "data = data.fillna(0)"
      ]
    },
    {
      "cell_type": "code",
      "execution_count": 75,
      "metadata": {
        "ExecuteTime": {
          "end_time": "2019-09-28T19:10:37.020392Z",
          "start_time": "2019-09-28T19:10:36.889377Z"
        },
        "scrolled": true,
        "colab": {
          "base_uri": "https://localhost:8080/"
        },
        "id": "G9NpK4EeYwLR",
        "outputId": "1fe5d353-b125-4a5b-f4f4-9ab0c5efef53"
      },
      "outputs": [
        {
          "output_type": "execute_result",
          "data": {
            "text/plain": [
              "np.float64(0.7492876483689002)"
            ]
          },
          "metadata": {},
          "execution_count": 75
        }
      ],
      "source": [
        "np.mean(cross_val_score(\n",
        "    LogisticRegression(solver='newton-cg'),\n",
        "    X=data.drop(['customer_id', 'response'], axis=1),\n",
        "    y=data.response,\n",
        "    cv=StratifiedKFold(n_splits=3),\n",
        "    scoring='roc_auc'))"
      ]
    },
    {
      "cell_type": "markdown",
      "metadata": {
        "id": "Vzjmh39YYwLR"
      },
      "source": [
        "Можно также считать дату первой и последней транзакциями пользователей, среднее время между транзакциями и прочее."
      ]
    },
    {
      "cell_type": "markdown",
      "metadata": {
        "id": "kPxz0GaPYwLR"
      },
      "source": [
        "Добавим к данным шумный признак."
      ]
    },
    {
      "cell_type": "code",
      "execution_count": 76,
      "metadata": {
        "id": "8WnqY7-KYwLR"
      },
      "outputs": [],
      "source": [
        "np.random.seed(42)\n",
        "noise_mean = 0\n",
        "noise_std = 10\n",
        "data['noisy_feature'] = np.random.normal(noise_mean, noise_std, len(data))\n",
        "noise_mean = -5\n",
        "noise_std = 10\n",
        "data['noisy_feature1'] = np.random.normal(noise_mean, noise_std, len(data)) + data[\"min\"]\n",
        "noise_mean = 5\n",
        "noise_std = 10\n",
        "data['noisy_feature2'] = np.random.normal(noise_mean, noise_std, len(data)) + data[\"max\"]\n",
        "noise_mean = 5\n",
        "noise_std = 0\n",
        "data['noisy_feature3'] = np.random.normal(noise_mean, noise_std, len(data)) + data[\"max\"]\n",
        "data = data.fillna(0)"
      ]
    },
    {
      "cell_type": "code",
      "execution_count": 77,
      "metadata": {
        "colab": {
          "base_uri": "https://localhost:8080/"
        },
        "id": "VtDe3xcKYwLS",
        "outputId": "6a7be06a-e5f3-40d5-c0a8-69c2803bdf6f"
      },
      "outputs": [
        {
          "output_type": "execute_result",
          "data": {
            "text/plain": [
              "np.float64(0.7417476274854972)"
            ]
          },
          "metadata": {},
          "execution_count": 77
        }
      ],
      "source": [
        "np.mean(cross_val_score(\n",
        "    LogisticRegression(solver='newton-cg'),\n",
        "    X=data.drop(['customer_id', 'response'], axis=1),\n",
        "    y=data.response,\n",
        "    cv=StratifiedKFold(n_splits=3),\n",
        "    scoring='roc_auc'))"
      ]
    },
    {
      "cell_type": "markdown",
      "metadata": {
        "id": "GyAcMZRBYwLS"
      },
      "source": [
        "Метрика чуть-чуть упала. Посмотрим на веса признаков в моделях."
      ]
    },
    {
      "cell_type": "code",
      "execution_count": 78,
      "metadata": {
        "colab": {
          "base_uri": "https://localhost:8080/",
          "height": 851
        },
        "id": "VDt7FKkeYwLS",
        "outputId": "0f1790a6-b65b-48c7-e091-461c3f1a6753"
      },
      "outputs": [
        {
          "output_type": "stream",
          "name": "stdout",
          "text": [
            "\n",
            "Веса признаков:\n",
            "       feature  coefficient  abs_coefficient\n",
            "noisy_feature3    -1.063181         1.063181\n",
            "           max     1.055953         1.055953\n",
            "    count_2014     0.164641         0.164641\n",
            "         count     0.063727         0.063727\n",
            "      std_2014    -0.025685         0.025685\n",
            "           min     0.024862         0.024862\n",
            "      min_2014    -0.020096         0.020096\n",
            "      max_2014     0.019673         0.019673\n",
            "          mean     0.014903         0.014903\n",
            "     mean_2014     0.009337         0.009337\n",
            "noisy_feature2    -0.008216         0.008216\n",
            "           std     0.008184         0.008184\n",
            "noisy_feature1    -0.003090         0.003090\n",
            " noisy_feature     0.000293         0.000293\n"
          ]
        },
        {
          "output_type": "display_data",
          "data": {
            "text/plain": [
              "<Figure size 1200x800 with 1 Axes>"
            ],
            "image/png": "[encoded data removed]"
          },
          "metadata": {}
        }
      ],
      "source": [
        "X = data.drop(['customer_id', 'response'], axis=1)\n",
        "y = data.response\n",
        "\n",
        "# Обучаем модель\n",
        "model = LogisticRegression(solver='newton-cg')\n",
        "model.fit(X, y)\n",
        "\n",
        "# Получаем веса признаков\n",
        "feature_weights = pd.DataFrame({\n",
        "    'feature': X.columns,\n",
        "    'coefficient': model.coef_[0],\n",
        "    'abs_coefficient': np.abs(model.coef_[0])\n",
        "})\n",
        "\n",
        "feature_weights = feature_weights.sort_values('abs_coefficient', ascending=False)\n",
        "\n",
        "print(\"\\nВеса признаков:\")\n",
        "print(feature_weights.to_string(index=False))\n",
        "\n",
        "top_features = feature_weights.head(20)\n",
        "plt.figure(figsize=(12, 8))\n",
        "colors = ['red' if coef < 0 else 'blue' for coef in top_features['coefficient']]\n",
        "plt.barh(top_features['feature'], top_features['coefficient'], color=colors)\n",
        "plt.xlabel('Коэффициент при признаке')\n",
        "plt.title('Веса признаков в логистической регрессии')\n",
        "plt.axvline(x=0, color='black', linestyle='--', alpha=0.7)\n",
        "plt.gca().invert_yaxis()\n",
        "plt.grid(axis='x', alpha=0.3)\n",
        "plt.tight_layout()\n",
        "plt.show()\n"
      ]
    },
    {
      "cell_type": "markdown",
      "metadata": {
        "id": "WohiRwoyYwLS"
      },
      "source": [
        "Как видно у шумных признаков веса минимальные."
      ]
    }
  ],
  "metadata": {
    "kernelspec": {
      "display_name": "Python 3 (ipykernel)",
      "language": "python",
      "name": "python3"
    },
    "language_info": {
      "codemirror_mode": {
        "name": "ipython",
        "version": 3
      },
      "file_extension": ".py",
      "mimetype": "text/x-python",
      "name": "python",
      "nbconvert_exporter": "python",
      "pygments_lexer": "ipython3",
      "version": "3.10.12"
    },
    "toc": {
      "base_numbering": 1,
      "nav_menu": {},
      "number_sections": true,
      "sideBar": true,
      "skip_h1_title": false,
      "title_cell": "Table of Contents",
      "title_sidebar": "Contents",
      "toc_cell": false,
      "toc_position": {},
      "toc_section_display": true,
      "toc_window_display": true
    },
    "varInspector": {
      "cols": {
        "lenName": 16,
        "lenType": 16,
        "lenVar": 40
      },
      "kernels_config": {
        "python": {
          "delete_cmd_postfix": "",
          "delete_cmd_prefix": "del ",
          "library": "var_list.py",
          "varRefreshCmd": "print(var_dic_list())"
        },
        "r": {
          "delete_cmd_postfix": ") ",
          "delete_cmd_prefix": "rm(",
          "library": "var_list.r",
          "varRefreshCmd": "cat(var_dic_list()) "
        }
      },
      "position": {
        "height": "144px",
        "left": "792px",
        "right": "20px",
        "top": "166px",
        "width": "350px"
      },
      "types_to_exclude": [
        "module",
        "function",
        "builtin_function_or_method",
        "instance",
        "_Feature"
      ],
      "window_display": false
    },
    "colab": {
      "provenance": []
    }
  },
  "nbformat": 4,
  "nbformat_minor": 0
}